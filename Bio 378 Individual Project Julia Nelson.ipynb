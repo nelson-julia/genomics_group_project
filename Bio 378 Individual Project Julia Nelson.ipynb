{
 "cells": [
  {
   "cell_type": "markdown",
   "metadata": {
    "id": "A5vI9unM__vz"
   },
   "source": [
    "# **Bio 378 Individual Project**"
   ]
  },
  {
   "cell_type": "markdown",
   "metadata": {
    "id": "6G_xcznqBOAO"
   },
   "source": [
    "### By Julia Nelson"
   ]
  },
  {
   "cell_type": "code",
   "execution_count": 1,
   "metadata": {
    "colab": {
     "base_uri": "https://localhost:8080/"
    },
    "id": "YcsHsP62VIRW",
    "outputId": "e6961efb-f9ec-4bb1-f095-aa02a78916e8"
   },
   "outputs": [],
   "source": [
    "# load packages & data\n",
    "\n",
    "import pandas as pd\n",
    "import seaborn as sns\n",
    "import matplotlib as mpl\n",
    "import matplotlib.pyplot as plt\n",
    "import numpy as np\n",
    "import scipy\n",
    "\n",
    "\n",
    "query_results = pd.read_csv('E-GEOD-112057-query-results.csv', skiprows = 3)\n",
    "analytics = pd.read_csv('E-GEOD-112057-analytics.csv')\n",
    "raw_counts = pd.read_csv('E-GEOD-112057-raw-counts.csv')\n",
    "exp_design = pd.read_csv('E-GEOD-112057-experiment-design.csv')"
   ]
  },
  {
   "cell_type": "markdown",
   "metadata": {
    "id": "rdQebP2WH_0W"
   },
   "source": [
    "# **Introduction**"
   ]
  },
  {
   "cell_type": "markdown",
   "metadata": {
    "id": "yXcZOHNfS2VB"
   },
   "source": [
    "In our group project, we explored a dataset that measured differential gene expression in the blood cells of inflammatory bowel disease (IBD) and juvenile idiopathic arthritis (JIA) patients. The dataset looked at both of the main IBDs, Crohn's disease and ulcerative colitis (UC), as well as three types of JIA, oligoarticular juvenile idiopathic arthritis (OJIA), polyarticular juvenile idiopathic arthritis (PJIA), and systemic juvenile idiopathic arthritis (SJIA). It compared gene expression in juvenile patients with each of these conditions to unaffected patients. We performed overenrichment analysis (ORA) on the three most upregulated KEGG pathways found by gene set enrichment analysis. \n",
    "\n",
    "However, I was curious what other pathways would be enriched, diminished, or unchanged under each of the five conditions. I particularly wanted to explore how expression of genes in disease pathways changed in patients with that disease. I decided to determine whether expression of genes found in the IBD KEGG pathway was enriched, diminished, or unchanged in Crohn's disease and UC. I also decided to determine whether expression of genes found in the rheumatoid arthritis (RA) KEGG pathway was enriched, diminished, or unchanged in OJIA, PJIA, and SJIA. I expected the pathways to either be significantly enriched or significantly diminished for each condition, since the presence of each gene in the pathway suggests that it has something to do with the disease and would either be upregulated or downregulated as a result of its involvement.\n",
    "\n",
    "I performed five ORAs in total to determine significant enrichment, significant diminishment, or neither:\n",
    "- Crohn's disease with IBD pathway\n",
    "- UC with IBD pathway\n",
    "- OJIA with RA pathway\n",
    "- PJIA with RA pathway\n",
    "- SJIA with RA pathway"
   ]
  },
  {
   "cell_type": "markdown",
   "metadata": {
    "id": "i7moecVHHUxf"
   },
   "source": [
    "# **Normalization**"
   ]
  },
  {
   "cell_type": "code",
   "execution_count": 2,
   "metadata": {
    "id": "AHldpdqy170J"
   },
   "outputs": [],
   "source": [
    "# allows for normalization of data\n",
    "\n",
    "def get_tmm(counts, ref_col, test_col, trim_m=0.30, trim_a=0.05):\n",
    "\n",
    "    '''\n",
    "        Calculates TMM value between ref_col and test_col\n",
    "\n",
    "        counts = count matrix (pd.DataFrame)\n",
    "        ref_col = reference column (str)\n",
    "        test_col = test columns (str)\n",
    "        trim_m = extremes to trim when taking trimmed mean of M values (float)\n",
    "        trim_a = extremes to trim when taking trimmed mean of M values (float)\n",
    "\n",
    "    '''\n",
    "\n",
    "    if ref_col == test_col:\n",
    "        counts_slim = counts[(counts[ref_col].values > 0) & (counts[test_col].values > 0)][[ref_col]]\n",
    "    else:\n",
    "        counts_slim = counts[(counts[ref_col].values > 0) & (counts[test_col].values > 0)][[ref_col, test_col]]\n",
    "\n",
    "    n_k = counts_slim[test_col].sum()\n",
    "    n_r = counts_slim[ref_col].sum()\n",
    "\n",
    "    m_k = np.log2(counts_slim[test_col].values/n_k)-np.log2(counts_slim[ref_col].values/n_r)\n",
    "    a_k = 0.5*np.log2((counts_slim[test_col].values/n_k)*(counts_slim[ref_col].values/n_r))\n",
    "    w_k = (n_k - counts_slim[test_col].values)/(n_k*counts_slim[test_col].values) + (n_r - counts_slim[ref_col].values)/(n_r*counts_slim[ref_col].values)\n",
    "\n",
    "    trim_array_m = (m_k <= np.percentile(m_k, 100*(1-(trim_m/2)))) & ((m_k >= np.percentile(m_k, 100*((trim_m/2)))))\n",
    "    trim_array_a = (a_k <= np.percentile(a_k, 100*(1-(trim_a/2)))) & ((a_k >= np.percentile(a_k, 100*((trim_a/2)))))\n",
    "\n",
    "    m_k = m_k[trim_array_m & trim_array_a]\n",
    "    a_k = a_k[trim_array_m & trim_array_a]\n",
    "    w_k = w_k[trim_array_m & trim_array_a]\n",
    "    tmm_k = 2**(np.sum(w_k*m_k)/np.sum(w_k))\n",
    "    return tmm_k\n",
    "\n",
    "def get_m_a(counts, ref_col, test_col, trim_m=0.30, trim_a=0.05):\n",
    "\n",
    "    '''\n",
    "        Calculates TMM value between ref_col and test_col\n",
    "\n",
    "        counts = count matrix (pd.DataFrame)\n",
    "        ref_col = reference column (str)\n",
    "        test_col = test columns (str)\n",
    "        trim_m = extremes to trim when taking trimmed mean of M values (float)\n",
    "        trim_a = extremes to trim when taking trimmed mean of M values (float)\n",
    "\n",
    "    '''\n",
    "\n",
    "    if ref_col == test_col:\n",
    "        counts_slim = counts[(counts[ref_col].values > 0) & (counts[test_col].values > 0)][[ref_col]].copy()\n",
    "    else:\n",
    "        counts_slim = counts[(counts[ref_col].values > 0) & (counts[test_col].values > 0)][[ref_col, test_col]]\n",
    "\n",
    "    n_k = 1 #counts_slim[test_col].sum()\n",
    "    n_r = 1 #counts_slim[ref_col].sum()\n",
    "\n",
    "    m_k = np.log2(counts_slim[test_col].values/n_k)-np.log2(counts_slim[ref_col].values/n_r)\n",
    "    a_k = 0.5*np.log2((counts_slim[test_col].values/n_k)*(counts_slim[ref_col].values/n_r))\n",
    "    return m_k, a_k\n",
    "\n",
    "def norm_tmm(counts, columns_to_norm, ref_col=None):\n",
    "    '''\n",
    "        Normalizes count matrix by TMM.\n",
    "\n",
    "        counts = count matrix (pd.DataFrame)\n",
    "        ref_col = reference column (str)\n",
    "        columns_to_norm = columns to be normed (str)\n",
    "\n",
    "    '''\n",
    "    if ref_col == None:\n",
    "        ref_col = columns_to_norm[0]\n",
    "    counts[counts.columns[~counts.columns.isin(columns_to_norm)]]\n",
    "\n",
    "    tmm_array = []\n",
    "    for col in columns_to_norm:\n",
    "        tmm_array.append(get_tmm(counts = counts, ref_col=ref_col, test_col=col))\n",
    "    tmm_array = np.array(tmm_array)\n",
    "    #print(tmm_array)\n",
    "\n",
    "    norm_counts = counts[columns_to_norm]/(np.sqrt(tmm_array)*counts[columns_to_norm].sum(axis=0))\n",
    "    norm_counts[counts.columns[~counts.columns.isin(columns_to_norm)]] = counts[counts.columns[~counts.columns.isin(columns_to_norm)]]\n",
    "    return norm_counts"
   ]
  },
  {
   "cell_type": "code",
   "execution_count": 3,
   "metadata": {
    "id": "hEa730dN0V5o"
   },
   "outputs": [],
   "source": [
    "# normalization\n",
    "\n",
    "exp_design = exp_design[exp_design['Analysed'] == 'Yes'].reset_index(drop=True)\n",
    "\n",
    "exp_design['labels'] = ['']*len(exp_design)\n",
    "\n",
    "# re-labeling\n",
    "exp_design.loc[(exp_design[['Factor Value[disease]']].values == [\"Crohn disease\"]).all(axis=1), 'labels'] = 'Crohn'\n",
    "exp_design.loc[(exp_design[['Factor Value[disease]']].values == [\"ulcerative colitis (disease)\"]).all(axis=1), 'labels'] = 'UC'\n",
    "exp_design.loc[(exp_design['Factor Value[disease]'].values == \"systemic-onset juvenile idiopathic arthritis\"), 'labels'] = 'SJIA'\n",
    "exp_design.loc[(exp_design['Factor Value[disease]'].values == \"polyarticular juvenile idiopathic arthritis\"), 'labels'] = 'PJIA'\n",
    "exp_design.loc[(exp_design['Factor Value[disease]'].values == \"oligoarticular juvenile idiopathic arthritis\"), 'labels'] = 'OJIA'\n",
    "exp_design.loc[(exp_design['Factor Value[disease]'].values == \"normal\"), 'labels'] = 'NORM'\n",
    "\n",
    "exp_design = exp_design.sort_values('labels')\n",
    "cols_to_norm = exp_design['Run'].values\n",
    "labels = exp_design['labels'].values\n",
    "\n",
    "# normalizing\n",
    "counts_norm = raw_counts.copy()\n",
    "counts_norm = norm_tmm(counts_norm, columns_to_norm=cols_to_norm, ref_col=cols_to_norm[0])\n",
    "\n",
    "# data normalization\n",
    "# compare bowel diseases to normal\n",
    "# compare arthritises to normal\n",
    "query_results.columns = ['Gene ID', 'Gene Name',\n",
    " 'Crohn_vs_NORM_fc', 'Crohn_vs_NORM_p',\n",
    " 'OJIA_vs_NORM_fc', 'OJIA_vs_NORM_p',\n",
    " 'PJIA_vs_NORM_fc', 'PJIA_vs_NORM_p',\n",
    " 'SJIA_vs_NORM_fc', 'SJIA_vs_NORM_p',\n",
    " 'UC_vs_NORM_fc', 'UC_vs_NORM_p',]\n"
   ]
  },
  {
   "cell_type": "code",
   "execution_count": 4,
   "metadata": {
    "id": "Sz5MfsVz6ye3"
   },
   "outputs": [],
   "source": [
    "# clean up data\n",
    "\n",
    "# filter for analyzed sample in data\n",
    "exp_design = exp_design[exp_design['Analysed'] == 'Yes'].reset_index(drop=True)\n",
    "\n",
    "# make new column to store abbreviation\n",
    "exp_design['labels'] = ['']*len(exp_design)\n",
    "\n",
    "# re-label by abbreviation\n",
    "exp_design.loc[(exp_design[['Factor Value[disease]']].values == [\"Crohn disease\"]).all(axis=1), 'labels'] = 'Crohn'\n",
    "exp_design.loc[(exp_design[['Factor Value[disease]']].values == [\"ulcerative colitis (disease)\"]).all(axis=1), 'labels'] = 'UC'\n",
    "exp_design.loc[(exp_design['Factor Value[disease]'].values == \"systemic-onset juvenile idiopathic arthritis\"), 'labels'] = 'SJIA'\n",
    "exp_design.loc[(exp_design['Factor Value[disease]'].values == \"polyarticular juvenile idiopathic arthritis\"), 'labels'] = 'PJIA'\n",
    "exp_design.loc[(exp_design['Factor Value[disease]'].values == \"oligoarticular juvenile idiopathic arthritis\"), 'labels'] = 'OJIA'\n",
    "exp_design.loc[(exp_design['Factor Value[disease]'].values == \"normal\"), 'labels'] = 'NORM'\n",
    "\n",
    "# sort exp design by condition\n",
    "exp_design = exp_design.sort_values('labels')\n",
    "\n",
    "# filter only Run tag for further normalization\n",
    "cols_to_norm = exp_design['Run'].values\n",
    "\n",
    "# preserve label for future use\n",
    "labels = exp_design['labels'].values\n",
    "\n",
    "# make copy for query and counts to save raw data\n",
    "query_result = query_results.copy()\n",
    "counts_norm = raw_counts.copy()\n",
    "\n",
    "# re-name query results columns based on relabeled abbreviation\n",
    "query_result.columns = ['Gene ID', 'Gene Name',\n",
    " 'Crohn_vs_NORM_fc', 'Crohn_vs_NORM_p',\n",
    " 'OJIA_vs_PJIA_fc', 'OJIA_vs_PJIA_p',\n",
    " 'PJIA_vs_SJIA_fc', 'PJIA_vs_SJIA_p',\n",
    " 'SJIA_vs_NORM_fc', 'SJIA_vs_NORM_p',\n",
    " 'UC_vs_NORM_fc', 'UC_vs_NORM_p',]"
   ]
  },
  {
   "cell_type": "markdown",
   "metadata": {},
   "source": [
    "# **Inflammatory Bowel Disease KEGG Pathway**"
   ]
  },
  {
   "cell_type": "code",
   "execution_count": 5,
   "metadata": {
    "id": "PhqUtFxr5wBh"
   },
   "outputs": [],
   "source": [
    "# genes in inflammatory bowel disease KEGG pathway\n",
    "ibd_pathway = ['NOD2', 'ATG16L1', 'ABCB1', 'IRF5', 'IL23R', 'IRGM', 'IL10RB', 'IL10RA', 'INAVA', 'CARD8', 'IL37', 'IL10', 'MST1']"
   ]
  },
  {
   "cell_type": "markdown",
   "metadata": {
    "id": "s7hXDp4k52if"
   },
   "source": [
    "The inflammatory bowel disease (IBD) KEGG pathway, H01227, has 13 genes. I selected this pathway because Crohn's disease and ulcerative colitis are the two main IBDs. I would expect the genes involved in the IBD pathway to be either significantly upregulated or significantly downregulated in Crohn's and UC as a result. I want to see if this dataset matches other research on the genes involved in Crohn's disease and UC."
   ]
  },
  {
   "cell_type": "markdown",
   "metadata": {
    "id": "EGjTjEP_5siY"
   },
   "source": [
    "# **Over-Representation Analysis of Crohn's Disease**"
   ]
  },
  {
   "cell_type": "markdown",
   "metadata": {
    "id": "UB3xnjcbNYKO"
   },
   "source": [
    "I made a volcano plot showing fold-change vs negative log q-value for every gene when Crohn's disease patients are compared to normal patients."
   ]
  },
  {
   "cell_type": "code",
   "execution_count": 6,
   "metadata": {
    "colab": {
     "base_uri": "https://localhost:8080/",
     "height": 583
    },
    "id": "gQM7x5yRNnxx",
    "outputId": "654da0d3-7574-4b02-81aa-dc9782104a88"
   },
   "outputs": [
    {
     "data": {
      "text/plain": [
       "<matplotlib.legend.Legend at 0x16a3fc210>"
      ]
     },
     "execution_count": 6,
     "metadata": {},
     "output_type": "execute_result"
    },
    {
     "data": {
      "image/png": "[encoded data removed]",
      "text/plain": [
       "<Figure size 600x600 with 1 Axes>"
      ]
     },
     "metadata": {},
     "output_type": "display_data"
    }
   ],
   "source": [
    "#volcano plot for Crohn's disease vs. normal\n",
    "\n",
    "fig = plt.figure(figsize=(6, 6))\n",
    "plt.scatter(query_results[\"Crohn_vs_NORM_fc\"],\n",
    "            -np.log10(query_results[\"Crohn_vs_NORM_p\"]),\n",
    "            alpha=0.3, s=2, label='Non-Pathway Genes')\n",
    "\n",
    "# Highlight pathway genes with a different color from non-pathway genes\n",
    "pathway_genes_mask = query_results[\"Gene Name\"].isin(ibd_pathway)\n",
    "plt.scatter(query_results.loc[pathway_genes_mask, \"Crohn_vs_NORM_fc\"],\n",
    "            -np.log10(query_results.loc[pathway_genes_mask, \"Crohn_vs_NORM_p\"]),\n",
    "            alpha=0.8, s=10, color='red', label='Pathway Genes')\n",
    "\n",
    "ax = plt.gca()\n",
    "ax.tick_params(labelsize=16)\n",
    "ax.set_xlabel(r'$\\log_2$(Fold Change), Crohn vs NORM', fontsize=16)\n",
    "ax.set_ylabel(r'-$\\log_{10}$(q-value)', fontsize=16)\n",
    "ax.set_ylim([0, 10])\n",
    "ax.axhline(-np.log10(0.05), color=sns.color_palette()[3], linestyle='dashed', label='Significance Threshold')\n",
    "\n",
    "# Create legend\n",
    "ax.legend()"
   ]
  },
  {
   "cell_type": "markdown",
   "metadata": {
    "id": "yIC_OQvKyqnO"
   },
   "source": [
    "The volcano plot shows that nine genes are both in the IBD pathway and the Crohn's disease condition of the dataset. Four of these genes are significantly downregulated, and one is significantly upregulated."
   ]
  },
  {
   "cell_type": "code",
   "execution_count": 7,
   "metadata": {
    "colab": {
     "base_uri": "https://localhost:8080/",
     "height": 419
    },
    "id": "NWw9p2jS6POc",
    "outputId": "e4b14321-e55e-4d58-af41-2a14cd309fdc"
   },
   "outputs": [
    {
     "data": {
      "text/html": [
       "<div>\n",
       "<style scoped>\n",
       "    .dataframe tbody tr th:only-of-type {\n",
       "        vertical-align: middle;\n",
       "    }\n",
       "\n",
       "    .dataframe tbody tr th {\n",
       "        vertical-align: top;\n",
       "    }\n",
       "\n",
       "    .dataframe thead th {\n",
       "        text-align: right;\n",
       "    }\n",
       "</style>\n",
       "<table border=\"1\" class=\"dataframe\">\n",
       "  <thead>\n",
       "    <tr style=\"text-align: right;\">\n",
       "      <th></th>\n",
       "      <th>Gene ID</th>\n",
       "      <th>Gene Name</th>\n",
       "      <th>Crohn_vs_NORM_fc</th>\n",
       "      <th>Crohn_vs_NORM_p</th>\n",
       "    </tr>\n",
       "  </thead>\n",
       "  <tbody>\n",
       "    <tr>\n",
       "      <th>1</th>\n",
       "      <td>ENSG00000000419</td>\n",
       "      <td>DPM1</td>\n",
       "      <td>0.3</td>\n",
       "      <td>0.018463</td>\n",
       "    </tr>\n",
       "    <tr>\n",
       "      <th>24</th>\n",
       "      <td>ENSG00000002834</td>\n",
       "      <td>LASP1</td>\n",
       "      <td>0.4</td>\n",
       "      <td>0.020804</td>\n",
       "    </tr>\n",
       "    <tr>\n",
       "      <th>25</th>\n",
       "      <td>ENSG00000002919</td>\n",
       "      <td>SNX11</td>\n",
       "      <td>0.4</td>\n",
       "      <td>0.010853</td>\n",
       "    </tr>\n",
       "    <tr>\n",
       "      <th>34</th>\n",
       "      <td>ENSG00000003402</td>\n",
       "      <td>CFLAR</td>\n",
       "      <td>0.5</td>\n",
       "      <td>0.016424</td>\n",
       "    </tr>\n",
       "    <tr>\n",
       "      <th>54</th>\n",
       "      <td>ENSG00000004809</td>\n",
       "      <td>SLC22A16</td>\n",
       "      <td>0.6</td>\n",
       "      <td>0.048388</td>\n",
       "    </tr>\n",
       "    <tr>\n",
       "      <th>...</th>\n",
       "      <td>...</td>\n",
       "      <td>...</td>\n",
       "      <td>...</td>\n",
       "      <td>...</td>\n",
       "    </tr>\n",
       "    <tr>\n",
       "      <th>20362</th>\n",
       "      <td>ENSG00000284882</td>\n",
       "      <td>ENSG00000284882</td>\n",
       "      <td>0.6</td>\n",
       "      <td>0.038017</td>\n",
       "    </tr>\n",
       "    <tr>\n",
       "      <th>20374</th>\n",
       "      <td>ENSG00000285006</td>\n",
       "      <td>ENSG00000285006</td>\n",
       "      <td>0.9</td>\n",
       "      <td>0.014551</td>\n",
       "    </tr>\n",
       "    <tr>\n",
       "      <th>20399</th>\n",
       "      <td>ENSG00000285444</td>\n",
       "      <td>ENSG00000285444</td>\n",
       "      <td>1.2</td>\n",
       "      <td>0.001429</td>\n",
       "    </tr>\n",
       "    <tr>\n",
       "      <th>20460</th>\n",
       "      <td>ENSG00000285909</td>\n",
       "      <td>ENSG00000285909</td>\n",
       "      <td>0.9</td>\n",
       "      <td>0.024139</td>\n",
       "    </tr>\n",
       "    <tr>\n",
       "      <th>20471</th>\n",
       "      <td>ENSG00000285984</td>\n",
       "      <td>ENSG00000285984</td>\n",
       "      <td>1.0</td>\n",
       "      <td>0.007087</td>\n",
       "    </tr>\n",
       "  </tbody>\n",
       "</table>\n",
       "<p>2274 rows × 4 columns</p>\n",
       "</div>"
      ],
      "text/plain": [
       "               Gene ID        Gene Name  Crohn_vs_NORM_fc  Crohn_vs_NORM_p\n",
       "1      ENSG00000000419             DPM1               0.3         0.018463\n",
       "24     ENSG00000002834            LASP1               0.4         0.020804\n",
       "25     ENSG00000002919            SNX11               0.4         0.010853\n",
       "34     ENSG00000003402            CFLAR               0.5         0.016424\n",
       "54     ENSG00000004809         SLC22A16               0.6         0.048388\n",
       "...                ...              ...               ...              ...\n",
       "20362  ENSG00000284882  ENSG00000284882               0.6         0.038017\n",
       "20374  ENSG00000285006  ENSG00000285006               0.9         0.014551\n",
       "20399  ENSG00000285444  ENSG00000285444               1.2         0.001429\n",
       "20460  ENSG00000285909  ENSG00000285909               0.9         0.024139\n",
       "20471  ENSG00000285984  ENSG00000285984               1.0         0.007087\n",
       "\n",
       "[2274 rows x 4 columns]"
      ]
     },
     "execution_count": 7,
     "metadata": {},
     "output_type": "execute_result"
    }
   ],
   "source": [
    "# select genes upregulated in Crohn's vs normal\n",
    "fc_truth = query_results[\"Crohn_vs_NORM_fc\"] > 0\n",
    "# significance threshold of 0.05\n",
    "q_val_truth = query_results[\"Crohn_vs_NORM_p\"] < 0.05\n",
    "\n",
    "# collect genes upregulated in Crohn's vs normal\n",
    "crohn_slice = query_results[fc_truth & q_val_truth]\n",
    "crohn_slice.iloc[:, [0,1,2,3]]"
   ]
  },
  {
   "cell_type": "markdown",
   "metadata": {
    "id": "JL6h8OR96w-l"
   },
   "source": [
    "2274 of the 58735 genes in the dataset are significantly upregulated in Crohn's disease. This represents 3.87% of the genes in the dataset."
   ]
  },
  {
   "cell_type": "code",
   "execution_count": 8,
   "metadata": {
    "colab": {
     "base_uri": "https://localhost:8080/",
     "height": 80
    },
    "id": "qZqlVRQr67E8",
    "outputId": "ffc44101-7f2a-4c5e-f6e7-bb78f9f2e65f"
   },
   "outputs": [
    {
     "data": {
      "text/html": [
       "<div>\n",
       "<style scoped>\n",
       "    .dataframe tbody tr th:only-of-type {\n",
       "        vertical-align: middle;\n",
       "    }\n",
       "\n",
       "    .dataframe tbody tr th {\n",
       "        vertical-align: top;\n",
       "    }\n",
       "\n",
       "    .dataframe thead th {\n",
       "        text-align: right;\n",
       "    }\n",
       "</style>\n",
       "<table border=\"1\" class=\"dataframe\">\n",
       "  <thead>\n",
       "    <tr style=\"text-align: right;\">\n",
       "      <th></th>\n",
       "      <th>Gene ID</th>\n",
       "      <th>Gene Name</th>\n",
       "      <th>Crohn_vs_NORM_fc</th>\n",
       "      <th>Crohn_vs_NORM_p</th>\n",
       "    </tr>\n",
       "  </thead>\n",
       "  <tbody>\n",
       "    <tr>\n",
       "      <th>9723</th>\n",
       "      <td>ENSG00000167207</td>\n",
       "      <td>NOD2</td>\n",
       "      <td>0.6</td>\n",
       "      <td>0.02638</td>\n",
       "    </tr>\n",
       "  </tbody>\n",
       "</table>\n",
       "</div>"
      ],
      "text/plain": [
       "              Gene ID Gene Name  Crohn_vs_NORM_fc  Crohn_vs_NORM_p\n",
       "9723  ENSG00000167207      NOD2               0.6          0.02638"
      ]
     },
     "execution_count": 8,
     "metadata": {},
     "output_type": "execute_result"
    }
   ],
   "source": [
    "# determine which genes in both crohn_slice & ibd_pathway\n",
    "crohn_cond = crohn_slice['Gene Name'].isin(ibd_pathway)\n",
    "crohn_filter = crohn_slice[crohn_cond]\n",
    "crohn_filter.iloc[:, [0,1,2,3]]"
   ]
  },
  {
   "cell_type": "markdown",
   "metadata": {
    "id": "Wp8ygmHh7Dum"
   },
   "source": [
    "Only one gene, NOD2, is both in the IBD pathway and is significantly upregulated in Crohn's disease. This matches the volcano plot."
   ]
  },
  {
   "cell_type": "code",
   "execution_count": 9,
   "metadata": {
    "colab": {
     "base_uri": "https://localhost:8080/"
    },
    "id": "Nj7byTo57KvC",
    "outputId": "2ebcce13-0ded-4a33-a703-7c5b22371e2b"
   },
   "outputs": [
    {
     "name": "stdout",
     "output_type": "stream",
     "text": [
      "k = 1\n",
      "N = 2274\n",
      "n = 12\n",
      "M = 20473\n",
      "Enrichment ratio: 0.750256523013779\n",
      "p-value: 0.7566577872292712\n"
     ]
    }
   ],
   "source": [
    "# number of genes in crohn_cond\n",
    "k = np.sum(crohn_cond)\n",
    "# number of genes in crohn_slice\n",
    "N = len(crohn_slice)\n",
    "# number of genes in both analytics & ibd_pathway\n",
    "n = np.sum(query_results['Gene Name'].isin(ibd_pathway))\n",
    "# number of genes in analytics\n",
    "M=len(query_results)\n",
    "\n",
    "print('k = ' + str(k))\n",
    "print('N = ' + str(N))\n",
    "print('n = ' + str(n))\n",
    "print('M = ' + str(M))\n",
    "print('Enrichment ratio: ' + str((k/N)/(n/M)))\n",
    "print('p-value: ' + str(scipy.stats.hypergeom.sf(k=k-1,\n",
    "                         N=N,\n",
    "                         n=n,\n",
    "                         M=M)))"
   ]
  },
  {
   "cell_type": "markdown",
   "metadata": {
    "id": "s10rsqEp7PAe"
   },
   "source": [
    "The p-value of .76 (> .05) shows that the IBD pathway is not significantly enriched in those with Crohn's disease. This is somewhat unexpected, as Crohn's disease is an IBD and we would expect these genes to be upregulated. It is possible that the genes in the IBD pathway are actually *downregulated* in Crohn's disease instead of upregulated, and we will test that next."
   ]
  },
  {
   "cell_type": "code",
   "execution_count": 10,
   "metadata": {
    "colab": {
     "base_uri": "https://localhost:8080/",
     "height": 419
    },
    "id": "zDV-38ZD7Tj6",
    "outputId": "fbb3c494-7a1d-40fb-aeb3-1f6cd90c3895"
   },
   "outputs": [
    {
     "data": {
      "text/html": [
       "<div>\n",
       "<style scoped>\n",
       "    .dataframe tbody tr th:only-of-type {\n",
       "        vertical-align: middle;\n",
       "    }\n",
       "\n",
       "    .dataframe tbody tr th {\n",
       "        vertical-align: top;\n",
       "    }\n",
       "\n",
       "    .dataframe thead th {\n",
       "        text-align: right;\n",
       "    }\n",
       "</style>\n",
       "<table border=\"1\" class=\"dataframe\">\n",
       "  <thead>\n",
       "    <tr style=\"text-align: right;\">\n",
       "      <th></th>\n",
       "      <th>Gene ID</th>\n",
       "      <th>Gene Name</th>\n",
       "      <th>Crohn_vs_NORM_fc</th>\n",
       "      <th>Crohn_vs_NORM_p</th>\n",
       "    </tr>\n",
       "  </thead>\n",
       "  <tbody>\n",
       "    <tr>\n",
       "      <th>11</th>\n",
       "      <td>ENSG00000001497</td>\n",
       "      <td>LAS1L</td>\n",
       "      <td>-0.2</td>\n",
       "      <td>0.038862</td>\n",
       "    </tr>\n",
       "    <tr>\n",
       "      <th>15</th>\n",
       "      <td>ENSG00000001631</td>\n",
       "      <td>KRIT1</td>\n",
       "      <td>-0.2</td>\n",
       "      <td>0.049484</td>\n",
       "    </tr>\n",
       "    <tr>\n",
       "      <th>16</th>\n",
       "      <td>ENSG00000002016</td>\n",
       "      <td>RAD52</td>\n",
       "      <td>-0.3</td>\n",
       "      <td>0.020685</td>\n",
       "    </tr>\n",
       "    <tr>\n",
       "      <th>40</th>\n",
       "      <td>ENSG00000004139</td>\n",
       "      <td>SARM1</td>\n",
       "      <td>-0.5</td>\n",
       "      <td>0.004055</td>\n",
       "    </tr>\n",
       "    <tr>\n",
       "      <th>61</th>\n",
       "      <td>ENSG00000004975</td>\n",
       "      <td>DVL2</td>\n",
       "      <td>-0.3</td>\n",
       "      <td>0.007960</td>\n",
       "    </tr>\n",
       "    <tr>\n",
       "      <th>...</th>\n",
       "      <td>...</td>\n",
       "      <td>...</td>\n",
       "      <td>...</td>\n",
       "      <td>...</td>\n",
       "    </tr>\n",
       "    <tr>\n",
       "      <th>20396</th>\n",
       "      <td>ENSG00000285417</td>\n",
       "      <td>ENSG00000285417</td>\n",
       "      <td>-0.5</td>\n",
       "      <td>0.038799</td>\n",
       "    </tr>\n",
       "    <tr>\n",
       "      <th>20412</th>\n",
       "      <td>ENSG00000285578</td>\n",
       "      <td>ENSG00000285578</td>\n",
       "      <td>-1.0</td>\n",
       "      <td>0.003748</td>\n",
       "    </tr>\n",
       "    <tr>\n",
       "      <th>20433</th>\n",
       "      <td>ENSG00000285752</td>\n",
       "      <td>CDC42-AS1</td>\n",
       "      <td>-0.5</td>\n",
       "      <td>0.020228</td>\n",
       "    </tr>\n",
       "    <tr>\n",
       "      <th>20458</th>\n",
       "      <td>ENSG00000285897</td>\n",
       "      <td>ENSG00000285897</td>\n",
       "      <td>-0.5</td>\n",
       "      <td>0.045093</td>\n",
       "    </tr>\n",
       "    <tr>\n",
       "      <th>20465</th>\n",
       "      <td>ENSG00000285943</td>\n",
       "      <td>ENSG00000285943</td>\n",
       "      <td>-0.7</td>\n",
       "      <td>0.008489</td>\n",
       "    </tr>\n",
       "  </tbody>\n",
       "</table>\n",
       "<p>1623 rows × 4 columns</p>\n",
       "</div>"
      ],
      "text/plain": [
       "               Gene ID        Gene Name  Crohn_vs_NORM_fc  Crohn_vs_NORM_p\n",
       "11     ENSG00000001497            LAS1L              -0.2         0.038862\n",
       "15     ENSG00000001631            KRIT1              -0.2         0.049484\n",
       "16     ENSG00000002016            RAD52              -0.3         0.020685\n",
       "40     ENSG00000004139            SARM1              -0.5         0.004055\n",
       "61     ENSG00000004975             DVL2              -0.3         0.007960\n",
       "...                ...              ...               ...              ...\n",
       "20396  ENSG00000285417  ENSG00000285417              -0.5         0.038799\n",
       "20412  ENSG00000285578  ENSG00000285578              -1.0         0.003748\n",
       "20433  ENSG00000285752        CDC42-AS1              -0.5         0.020228\n",
       "20458  ENSG00000285897  ENSG00000285897              -0.5         0.045093\n",
       "20465  ENSG00000285943  ENSG00000285943              -0.7         0.008489\n",
       "\n",
       "[1623 rows x 4 columns]"
      ]
     },
     "execution_count": 10,
     "metadata": {},
     "output_type": "execute_result"
    }
   ],
   "source": [
    "# select genes downregulated in Crohn's vs normal\n",
    "fc_truth2 = query_results[\"Crohn_vs_NORM_fc\"] < 0\n",
    "# significance threshold of 0.05\n",
    "q_val_truth2 = query_results[\"Crohn_vs_NORM_p\"] < 0.05\n",
    "\n",
    "# collect genes downregulated in Crohn's vs normal\n",
    "crohn_slice2 = query_results[fc_truth2 & q_val_truth2]\n",
    "crohn_slice2.iloc[:, [0,1,2,3]]"
   ]
  },
  {
   "cell_type": "markdown",
   "metadata": {
    "id": "L1ncdHAO8BV4"
   },
   "source": [
    "1623 of the 58735 genes in the dataset are significantly downregulated in Crohn's disease. This represents 2.76% of the genes in the dataset."
   ]
  },
  {
   "cell_type": "code",
   "execution_count": 11,
   "metadata": {
    "colab": {
     "base_uri": "https://localhost:8080/",
     "height": 173
    },
    "id": "jpt16Tp88EgN",
    "outputId": "24498d99-b638-4071-e61c-39a0c75d2607"
   },
   "outputs": [
    {
     "data": {
      "text/html": [
       "<div>\n",
       "<style scoped>\n",
       "    .dataframe tbody tr th:only-of-type {\n",
       "        vertical-align: middle;\n",
       "    }\n",
       "\n",
       "    .dataframe tbody tr th {\n",
       "        vertical-align: top;\n",
       "    }\n",
       "\n",
       "    .dataframe thead th {\n",
       "        text-align: right;\n",
       "    }\n",
       "</style>\n",
       "<table border=\"1\" class=\"dataframe\">\n",
       "  <thead>\n",
       "    <tr style=\"text-align: right;\">\n",
       "      <th></th>\n",
       "      <th>Gene ID</th>\n",
       "      <th>Gene Name</th>\n",
       "      <th>Crohn_vs_NORM_fc</th>\n",
       "      <th>Crohn_vs_NORM_p</th>\n",
       "    </tr>\n",
       "  </thead>\n",
       "  <tbody>\n",
       "    <tr>\n",
       "      <th>1428</th>\n",
       "      <td>ENSG00000085563</td>\n",
       "      <td>ABCB1</td>\n",
       "      <td>-0.7</td>\n",
       "      <td>0.000487</td>\n",
       "    </tr>\n",
       "    <tr>\n",
       "      <th>1442</th>\n",
       "      <td>ENSG00000085978</td>\n",
       "      <td>ATG16L1</td>\n",
       "      <td>-0.2</td>\n",
       "      <td>0.009499</td>\n",
       "    </tr>\n",
       "    <tr>\n",
       "      <th>3191</th>\n",
       "      <td>ENSG00000110324</td>\n",
       "      <td>IL10RA</td>\n",
       "      <td>-0.3</td>\n",
       "      <td>0.038246</td>\n",
       "    </tr>\n",
       "    <tr>\n",
       "      <th>8778</th>\n",
       "      <td>ENSG00000162594</td>\n",
       "      <td>IL23R</td>\n",
       "      <td>-0.9</td>\n",
       "      <td>0.008877</td>\n",
       "    </tr>\n",
       "  </tbody>\n",
       "</table>\n",
       "</div>"
      ],
      "text/plain": [
       "              Gene ID Gene Name  Crohn_vs_NORM_fc  Crohn_vs_NORM_p\n",
       "1428  ENSG00000085563     ABCB1              -0.7         0.000487\n",
       "1442  ENSG00000085978   ATG16L1              -0.2         0.009499\n",
       "3191  ENSG00000110324    IL10RA              -0.3         0.038246\n",
       "8778  ENSG00000162594     IL23R              -0.9         0.008877"
      ]
     },
     "execution_count": 11,
     "metadata": {},
     "output_type": "execute_result"
    }
   ],
   "source": [
    "# determine which genes in both crohn_slice2 & ibd_pathway\n",
    "crohn_cond2 = crohn_slice2['Gene Name'].isin(ibd_pathway)\n",
    "crohn_filter2 = crohn_slice2[crohn_cond2]\n",
    "crohn_filter2.iloc[:, [0,1,2,3]]"
   ]
  },
  {
   "cell_type": "markdown",
   "metadata": {
    "id": "jai_NbKw8Mv1"
   },
   "source": [
    "Four genes--ABCB1, ATG16L1, IL10RA, and IL23R--are in both the IBD pathway and are significantly downregulated in Crohn's disease. This matches the volcano plot."
   ]
  },
  {
   "cell_type": "code",
   "execution_count": 12,
   "metadata": {
    "colab": {
     "base_uri": "https://localhost:8080/"
    },
    "id": "zFPDAIyr8gjB",
    "outputId": "31825e63-e413-43c3-9d5f-468615958e5d"
   },
   "outputs": [
    {
     "name": "stdout",
     "output_type": "stream",
     "text": [
      "k = 4\n",
      "N = 1623\n",
      "n = 12\n",
      "M = 20473\n",
      "Enrichment ratio: 4.2047648387759295\n",
      "p-value: 0.011612112739460875\n"
     ]
    }
   ],
   "source": [
    "# number of genes in crohn_cond2\n",
    "k = np.sum(crohn_cond2)\n",
    "# number of genes in crohn_slice2\n",
    "N = len(crohn_slice2)\n",
    "# number of genes in both analytics & ibd_pathway\n",
    "n = np.sum(query_results['Gene Name'].isin(ibd_pathway))\n",
    "# number of genes in analytics\n",
    "M=len(query_results)\n",
    "\n",
    "print('k = ' + str(k))\n",
    "print('N = ' + str(N))\n",
    "print('n = ' + str(n))\n",
    "print('M = ' + str(M))\n",
    "print('Enrichment ratio: ' + str((k/N)/(n/M)))\n",
    "print('p-value: ' + str(scipy.stats.hypergeom.sf(k=k-1,\n",
    "                         N=N,\n",
    "                         n=n,\n",
    "                         M=M)))"
   ]
  },
  {
   "cell_type": "markdown",
   "metadata": {
    "id": "6T99XsNz8mkL"
   },
   "source": [
    "The p-value of .01 (< .05) shows that the IBD pathway is significantly diminished in those with Crohn's disease. The functions of these genes are likely impaired by Crohn's disease and other IBDs. The enrichment ratio of 4.20 shows that the genes are about 4.20 times less prevalent among the input dataset than the reference dataset. Now we will determine if the IBD pathway is upregulated or downregulated in UC."
   ]
  },
  {
   "cell_type": "markdown",
   "metadata": {},
   "source": [
    "# **Over-Representation Analysis of Ulcerative Colitis**"
   ]
  },
  {
   "cell_type": "markdown",
   "metadata": {
    "id": "cRkhT2dJOFlV"
   },
   "source": [
    "I made a volcano plot showing fold-change vs negative log q-value for every gene when UC patients are compared to normal patients."
   ]
  },
  {
   "cell_type": "code",
   "execution_count": 13,
   "metadata": {
    "colab": {
     "base_uri": "https://localhost:8080/",
     "height": 583
    },
    "id": "knI0CM1FOE_U",
    "outputId": "3e36a7da-f93e-44ee-88dc-8fc933d0e0a3"
   },
   "outputs": [
    {
     "data": {
      "text/plain": [
       "<matplotlib.legend.Legend at 0x16a840f10>"
      ]
     },
     "execution_count": 13,
     "metadata": {},
     "output_type": "execute_result"
    },
    {
     "data": {
      "image/png": "[encoded data removed]",
      "text/plain": [
       "<Figure size 600x600 with 1 Axes>"
      ]
     },
     "metadata": {},
     "output_type": "display_data"
    }
   ],
   "source": [
    "#volcano plot for UC vs. normal\n",
    "\n",
    "fig = plt.figure(figsize=(6, 6))\n",
    "plt.scatter(query_results[\"UC_vs_NORM_fc\"],\n",
    "            -np.log10(query_results[\"UC_vs_NORM_p\"]),\n",
    "            alpha=0.3, s=2, label='Non-Pathway Genes')\n",
    "\n",
    "# Highlight pathway genes with a different color from non-pathway genes\n",
    "pathway_genes_mask = query_results[\"Gene Name\"].isin(ibd_pathway)\n",
    "plt.scatter(query_results.loc[pathway_genes_mask, \"UC_vs_NORM_fc\"],\n",
    "            -np.log10(query_results.loc[pathway_genes_mask, \"UC_vs_NORM_p\"]),\n",
    "            alpha=0.8, s=10, color='red', label='Pathway Genes')\n",
    "\n",
    "ax = plt.gca()\n",
    "ax.tick_params(labelsize=16)\n",
    "ax.set_xlabel(r'$\\log_2$(Fold Change), UC vs NORM', fontsize=16)\n",
    "ax.set_ylabel(r'-$\\log_{10}$(q-value)', fontsize=16)\n",
    "ax.set_ylim([0, 10])\n",
    "ax.axhline(-np.log10(0.05), color=sns.color_palette()[3], linestyle='dashed', label='Significance Threshold')\n",
    "\n",
    "# Create legend\n",
    "ax.legend()"
   ]
  },
  {
   "cell_type": "markdown",
   "metadata": {
    "id": "V_BIeHBQBPO2"
   },
   "source": [
    "The volcano plot shows that twelve genes are both in the IBD pathway and the UC condition of the dataset. Four of these genes are significantly downregulated, and four are significantly upregulated."
   ]
  },
  {
   "cell_type": "code",
   "execution_count": 14,
   "metadata": {
    "colab": {
     "base_uri": "https://localhost:8080/",
     "height": 419
    },
    "id": "qSC5gB9DWCgj",
    "outputId": "55757395-2f44-416d-e0f8-220a444afa61"
   },
   "outputs": [
    {
     "data": {
      "text/html": [
       "<div>\n",
       "<style scoped>\n",
       "    .dataframe tbody tr th:only-of-type {\n",
       "        vertical-align: middle;\n",
       "    }\n",
       "\n",
       "    .dataframe tbody tr th {\n",
       "        vertical-align: top;\n",
       "    }\n",
       "\n",
       "    .dataframe thead th {\n",
       "        text-align: right;\n",
       "    }\n",
       "</style>\n",
       "<table border=\"1\" class=\"dataframe\">\n",
       "  <thead>\n",
       "    <tr style=\"text-align: right;\">\n",
       "      <th></th>\n",
       "      <th>Gene ID</th>\n",
       "      <th>Gene Name</th>\n",
       "      <th>UC_vs_NORM_fc</th>\n",
       "      <th>UC_vs_NORM_p</th>\n",
       "    </tr>\n",
       "  </thead>\n",
       "  <tbody>\n",
       "    <tr>\n",
       "      <th>1</th>\n",
       "      <td>ENSG00000000419</td>\n",
       "      <td>DPM1</td>\n",
       "      <td>0.4</td>\n",
       "      <td>0.003457</td>\n",
       "    </tr>\n",
       "    <tr>\n",
       "      <th>4</th>\n",
       "      <td>ENSG00000000938</td>\n",
       "      <td>FGR</td>\n",
       "      <td>0.5</td>\n",
       "      <td>0.048836</td>\n",
       "    </tr>\n",
       "    <tr>\n",
       "      <th>21</th>\n",
       "      <td>ENSG00000002726</td>\n",
       "      <td>AOC1</td>\n",
       "      <td>1.1</td>\n",
       "      <td>0.042997</td>\n",
       "    </tr>\n",
       "    <tr>\n",
       "      <th>24</th>\n",
       "      <td>ENSG00000002834</td>\n",
       "      <td>LASP1</td>\n",
       "      <td>0.5</td>\n",
       "      <td>0.001242</td>\n",
       "    </tr>\n",
       "    <tr>\n",
       "      <th>25</th>\n",
       "      <td>ENSG00000002919</td>\n",
       "      <td>SNX11</td>\n",
       "      <td>0.6</td>\n",
       "      <td>0.000202</td>\n",
       "    </tr>\n",
       "    <tr>\n",
       "      <th>...</th>\n",
       "      <td>...</td>\n",
       "      <td>...</td>\n",
       "      <td>...</td>\n",
       "      <td>...</td>\n",
       "    </tr>\n",
       "    <tr>\n",
       "      <th>20408</th>\n",
       "      <td>ENSG00000285534</td>\n",
       "      <td>ENSG00000285534</td>\n",
       "      <td>1.2</td>\n",
       "      <td>0.017380</td>\n",
       "    </tr>\n",
       "    <tr>\n",
       "      <th>20459</th>\n",
       "      <td>ENSG00000285906</td>\n",
       "      <td>ENSG00000285906</td>\n",
       "      <td>0.9</td>\n",
       "      <td>0.011584</td>\n",
       "    </tr>\n",
       "    <tr>\n",
       "      <th>20460</th>\n",
       "      <td>ENSG00000285909</td>\n",
       "      <td>ENSG00000285909</td>\n",
       "      <td>1.1</td>\n",
       "      <td>0.027332</td>\n",
       "    </tr>\n",
       "    <tr>\n",
       "      <th>20464</th>\n",
       "      <td>ENSG00000285938</td>\n",
       "      <td>ENSG00000285938</td>\n",
       "      <td>1.2</td>\n",
       "      <td>0.002374</td>\n",
       "    </tr>\n",
       "    <tr>\n",
       "      <th>20471</th>\n",
       "      <td>ENSG00000285984</td>\n",
       "      <td>ENSG00000285984</td>\n",
       "      <td>1.4</td>\n",
       "      <td>0.007520</td>\n",
       "    </tr>\n",
       "  </tbody>\n",
       "</table>\n",
       "<p>3345 rows × 4 columns</p>\n",
       "</div>"
      ],
      "text/plain": [
       "               Gene ID        Gene Name  UC_vs_NORM_fc  UC_vs_NORM_p\n",
       "1      ENSG00000000419             DPM1            0.4      0.003457\n",
       "4      ENSG00000000938              FGR            0.5      0.048836\n",
       "21     ENSG00000002726             AOC1            1.1      0.042997\n",
       "24     ENSG00000002834            LASP1            0.5      0.001242\n",
       "25     ENSG00000002919            SNX11            0.6      0.000202\n",
       "...                ...              ...            ...           ...\n",
       "20408  ENSG00000285534  ENSG00000285534            1.2      0.017380\n",
       "20459  ENSG00000285906  ENSG00000285906            0.9      0.011584\n",
       "20460  ENSG00000285909  ENSG00000285909            1.1      0.027332\n",
       "20464  ENSG00000285938  ENSG00000285938            1.2      0.002374\n",
       "20471  ENSG00000285984  ENSG00000285984            1.4      0.007520\n",
       "\n",
       "[3345 rows x 4 columns]"
      ]
     },
     "execution_count": 14,
     "metadata": {},
     "output_type": "execute_result"
    }
   ],
   "source": [
    "# select genes upregulated in UC vs normal\n",
    "fc_truth3 = query_results[\"UC_vs_NORM_fc\"] > 0\n",
    "# significance threshold of 0.05\n",
    "q_val_truth3 = query_results[\"UC_vs_NORM_p\"] < 0.05\n",
    "\n",
    "# collect genes upregulated in UC vs normal\n",
    "uc_slice = query_results[fc_truth3 & q_val_truth3]\n",
    "uc_slice.iloc[:, [0,1,10,11]]"
   ]
  },
  {
   "cell_type": "markdown",
   "metadata": {
    "id": "PyJhI1p9WW0z"
   },
   "source": [
    "3345 of the 58735 genes in the dataset are significantly upregulated in UC. This represents 5.70% of the genes in the dataset."
   ]
  },
  {
   "cell_type": "code",
   "execution_count": 15,
   "metadata": {
    "colab": {
     "base_uri": "https://localhost:8080/",
     "height": 173
    },
    "id": "D-mqyaDbWaMG",
    "outputId": "ecc1e65b-54b8-4c6f-8483-0093973bee20"
   },
   "outputs": [
    {
     "data": {
      "text/html": [
       "<div>\n",
       "<style scoped>\n",
       "    .dataframe tbody tr th:only-of-type {\n",
       "        vertical-align: middle;\n",
       "    }\n",
       "\n",
       "    .dataframe tbody tr th {\n",
       "        vertical-align: top;\n",
       "    }\n",
       "\n",
       "    .dataframe thead th {\n",
       "        text-align: right;\n",
       "    }\n",
       "</style>\n",
       "<table border=\"1\" class=\"dataframe\">\n",
       "  <thead>\n",
       "    <tr style=\"text-align: right;\">\n",
       "      <th></th>\n",
       "      <th>Gene ID</th>\n",
       "      <th>Gene Name</th>\n",
       "      <th>UC_vs_NORM_fc</th>\n",
       "      <th>UC_vs_NORM_p</th>\n",
       "    </tr>\n",
       "  </thead>\n",
       "  <tbody>\n",
       "    <tr>\n",
       "      <th>2657</th>\n",
       "      <td>ENSG00000105483</td>\n",
       "      <td>CARD8</td>\n",
       "      <td>0.4</td>\n",
       "      <td>0.026615</td>\n",
       "    </tr>\n",
       "    <tr>\n",
       "      <th>6064</th>\n",
       "      <td>ENSG00000136634</td>\n",
       "      <td>IL10</td>\n",
       "      <td>1.4</td>\n",
       "      <td>0.002596</td>\n",
       "    </tr>\n",
       "    <tr>\n",
       "      <th>8930</th>\n",
       "      <td>ENSG00000163362</td>\n",
       "      <td>INAVA</td>\n",
       "      <td>1.4</td>\n",
       "      <td>0.006761</td>\n",
       "    </tr>\n",
       "    <tr>\n",
       "      <th>16650</th>\n",
       "      <td>ENSG00000243646</td>\n",
       "      <td>IL10RB</td>\n",
       "      <td>0.6</td>\n",
       "      <td>0.005262</td>\n",
       "    </tr>\n",
       "  </tbody>\n",
       "</table>\n",
       "</div>"
      ],
      "text/plain": [
       "               Gene ID Gene Name  UC_vs_NORM_fc  UC_vs_NORM_p\n",
       "2657   ENSG00000105483     CARD8            0.4      0.026615\n",
       "6064   ENSG00000136634      IL10            1.4      0.002596\n",
       "8930   ENSG00000163362     INAVA            1.4      0.006761\n",
       "16650  ENSG00000243646    IL10RB            0.6      0.005262"
      ]
     },
     "execution_count": 15,
     "metadata": {},
     "output_type": "execute_result"
    }
   ],
   "source": [
    "# determine which genes in both uc_slice & ibd_pathway\n",
    "uc_cond = uc_slice['Gene Name'].isin(ibd_pathway)\n",
    "uc_filter = uc_slice[uc_cond]\n",
    "uc_filter.iloc[:, [0,1,10,11]]"
   ]
  },
  {
   "cell_type": "markdown",
   "metadata": {
    "id": "N32lZlO4WyCJ"
   },
   "source": [
    "Four genes--CARD8, IL10, INAVA, and IL10RB--are in both the IBD pathway and are significantly upregulated in UC. This matches the volcano plot."
   ]
  },
  {
   "cell_type": "code",
   "execution_count": 16,
   "metadata": {
    "colab": {
     "base_uri": "https://localhost:8080/"
    },
    "id": "s6ErMQcqW2ua",
    "outputId": "43d3e222-fae5-454c-dc88-4656ddda4ae8"
   },
   "outputs": [
    {
     "name": "stdout",
     "output_type": "stream",
     "text": [
      "k = 4\n",
      "N = 3345\n",
      "n = 12\n",
      "M = 20473\n",
      "Enrichment ratio: 2.040159441953164\n",
      "p-value: 0.11822003220084853\n"
     ]
    }
   ],
   "source": [
    "# number of genes in uc_cond\n",
    "k = np.sum(uc_cond)\n",
    "# number of genes in uc_slice\n",
    "N = len(uc_slice)\n",
    "# number of genes in both analytics & ibd_pathway\n",
    "n = np.sum(query_results['Gene Name'].isin(ibd_pathway))\n",
    "# number of genes in query)resukts\n",
    "M=len(query_results)\n",
    "\n",
    "print('k = ' + str(k))\n",
    "print('N = ' + str(N))\n",
    "print('n = ' + str(n))\n",
    "print('M = ' + str(M))\n",
    "print('Enrichment ratio: ' + str((k/N)/(n/M)))\n",
    "print('p-value: ' + str(scipy.stats.hypergeom.sf(k=k-1,\n",
    "                         N=N,\n",
    "                         n=n,\n",
    "                         M=M)))"
   ]
  },
  {
   "cell_type": "markdown",
   "metadata": {},
   "source": [
    "The p-value of .12 (> .05) shows that the inflammatory bowel disease pathway is not significantly enriched in those with UC. This is unexpected, as UC is an inflammatory bowel disease and we would expect these genes to be upregulated. It is possible that the genes in the IBD pathway are actually *downregulated* in UC instead of upregulated, as they are for Crohn's disease. We will test that next."
   ]
  },
  {
   "cell_type": "code",
   "execution_count": 17,
   "metadata": {},
   "outputs": [
    {
     "data": {
      "text/html": [
       "<div>\n",
       "<style scoped>\n",
       "    .dataframe tbody tr th:only-of-type {\n",
       "        vertical-align: middle;\n",
       "    }\n",
       "\n",
       "    .dataframe tbody tr th {\n",
       "        vertical-align: top;\n",
       "    }\n",
       "\n",
       "    .dataframe thead th {\n",
       "        text-align: right;\n",
       "    }\n",
       "</style>\n",
       "<table border=\"1\" class=\"dataframe\">\n",
       "  <thead>\n",
       "    <tr style=\"text-align: right;\">\n",
       "      <th></th>\n",
       "      <th>Gene ID</th>\n",
       "      <th>Gene Name</th>\n",
       "      <th>UC_vs_NORM_fc</th>\n",
       "      <th>UC_vs_NORM_p</th>\n",
       "    </tr>\n",
       "  </thead>\n",
       "  <tbody>\n",
       "    <tr>\n",
       "      <th>5</th>\n",
       "      <td>ENSG00000000971</td>\n",
       "      <td>CFH</td>\n",
       "      <td>-0.8</td>\n",
       "      <td>0.016450</td>\n",
       "    </tr>\n",
       "    <tr>\n",
       "      <th>11</th>\n",
       "      <td>ENSG00000001497</td>\n",
       "      <td>LAS1L</td>\n",
       "      <td>-0.4</td>\n",
       "      <td>0.001773</td>\n",
       "    </tr>\n",
       "    <tr>\n",
       "      <th>23</th>\n",
       "      <td>ENSG00000002822</td>\n",
       "      <td>MAD1L1</td>\n",
       "      <td>-0.6</td>\n",
       "      <td>0.001091</td>\n",
       "    </tr>\n",
       "    <tr>\n",
       "      <th>40</th>\n",
       "      <td>ENSG00000004139</td>\n",
       "      <td>SARM1</td>\n",
       "      <td>-0.7</td>\n",
       "      <td>0.000903</td>\n",
       "    </tr>\n",
       "    <tr>\n",
       "      <th>46</th>\n",
       "      <td>ENSG00000004487</td>\n",
       "      <td>KDM1A</td>\n",
       "      <td>-0.2</td>\n",
       "      <td>0.010849</td>\n",
       "    </tr>\n",
       "    <tr>\n",
       "      <th>...</th>\n",
       "      <td>...</td>\n",
       "      <td>...</td>\n",
       "      <td>...</td>\n",
       "      <td>...</td>\n",
       "    </tr>\n",
       "    <tr>\n",
       "      <th>20412</th>\n",
       "      <td>ENSG00000285578</td>\n",
       "      <td>ENSG00000285578</td>\n",
       "      <td>-1.0</td>\n",
       "      <td>0.032063</td>\n",
       "    </tr>\n",
       "    <tr>\n",
       "      <th>20428</th>\n",
       "      <td>ENSG00000285728</td>\n",
       "      <td>ENSG00000285728</td>\n",
       "      <td>-0.8</td>\n",
       "      <td>0.007848</td>\n",
       "    </tr>\n",
       "    <tr>\n",
       "      <th>20433</th>\n",
       "      <td>ENSG00000285752</td>\n",
       "      <td>CDC42-AS1</td>\n",
       "      <td>-0.7</td>\n",
       "      <td>0.011149</td>\n",
       "    </tr>\n",
       "    <tr>\n",
       "      <th>20435</th>\n",
       "      <td>ENSG00000285761</td>\n",
       "      <td>ENSG00000285761</td>\n",
       "      <td>-0.8</td>\n",
       "      <td>0.022080</td>\n",
       "    </tr>\n",
       "    <tr>\n",
       "      <th>20441</th>\n",
       "      <td>ENSG00000285799</td>\n",
       "      <td>ENSG00000285799</td>\n",
       "      <td>-0.8</td>\n",
       "      <td>0.017273</td>\n",
       "    </tr>\n",
       "  </tbody>\n",
       "</table>\n",
       "<p>2689 rows × 4 columns</p>\n",
       "</div>"
      ],
      "text/plain": [
       "               Gene ID        Gene Name  UC_vs_NORM_fc  UC_vs_NORM_p\n",
       "5      ENSG00000000971              CFH           -0.8      0.016450\n",
       "11     ENSG00000001497            LAS1L           -0.4      0.001773\n",
       "23     ENSG00000002822           MAD1L1           -0.6      0.001091\n",
       "40     ENSG00000004139            SARM1           -0.7      0.000903\n",
       "46     ENSG00000004487            KDM1A           -0.2      0.010849\n",
       "...                ...              ...            ...           ...\n",
       "20412  ENSG00000285578  ENSG00000285578           -1.0      0.032063\n",
       "20428  ENSG00000285728  ENSG00000285728           -0.8      0.007848\n",
       "20433  ENSG00000285752        CDC42-AS1           -0.7      0.011149\n",
       "20435  ENSG00000285761  ENSG00000285761           -0.8      0.022080\n",
       "20441  ENSG00000285799  ENSG00000285799           -0.8      0.017273\n",
       "\n",
       "[2689 rows x 4 columns]"
      ]
     },
     "execution_count": 17,
     "metadata": {},
     "output_type": "execute_result"
    }
   ],
   "source": [
    "# select genes downregulated in UC vs normal\n",
    "fc_uc2 = query_results[\"UC_vs_NORM_fc\"] < 0\n",
    "# significance threshold of 0.05\n",
    "q_uc2 = query_results[\"UC_vs_NORM_p\"] < 0.05\n",
    "\n",
    "# collect genes downregulated in UC vs normal\n",
    "uc_slice2 = query_results[fc_uc2 & q_uc2]\n",
    "uc_slice2.iloc[:, [0,1,10,11]]"
   ]
  },
  {
   "cell_type": "markdown",
   "metadata": {},
   "source": [
    "2689 of the 58735 genes in the dataset are significantly upregulated in UC. This represents 4.58% of the genes in the dataset."
   ]
  },
  {
   "cell_type": "code",
   "execution_count": 18,
   "metadata": {},
   "outputs": [
    {
     "data": {
      "text/html": [
       "<div>\n",
       "<style scoped>\n",
       "    .dataframe tbody tr th:only-of-type {\n",
       "        vertical-align: middle;\n",
       "    }\n",
       "\n",
       "    .dataframe tbody tr th {\n",
       "        vertical-align: top;\n",
       "    }\n",
       "\n",
       "    .dataframe thead th {\n",
       "        text-align: right;\n",
       "    }\n",
       "</style>\n",
       "<table border=\"1\" class=\"dataframe\">\n",
       "  <thead>\n",
       "    <tr style=\"text-align: right;\">\n",
       "      <th></th>\n",
       "      <th>Gene ID</th>\n",
       "      <th>Gene Name</th>\n",
       "      <th>UC_vs_NORM_fc</th>\n",
       "      <th>UC_vs_NORM_p</th>\n",
       "    </tr>\n",
       "  </thead>\n",
       "  <tbody>\n",
       "    <tr>\n",
       "      <th>1428</th>\n",
       "      <td>ENSG00000085563</td>\n",
       "      <td>ABCB1</td>\n",
       "      <td>-1.1</td>\n",
       "      <td>0.000004</td>\n",
       "    </tr>\n",
       "    <tr>\n",
       "      <th>1442</th>\n",
       "      <td>ENSG00000085978</td>\n",
       "      <td>ATG16L1</td>\n",
       "      <td>-0.3</td>\n",
       "      <td>0.001568</td>\n",
       "    </tr>\n",
       "    <tr>\n",
       "      <th>3191</th>\n",
       "      <td>ENSG00000110324</td>\n",
       "      <td>IL10RA</td>\n",
       "      <td>-0.4</td>\n",
       "      <td>0.003647</td>\n",
       "    </tr>\n",
       "    <tr>\n",
       "      <th>8778</th>\n",
       "      <td>ENSG00000162594</td>\n",
       "      <td>IL23R</td>\n",
       "      <td>-1.5</td>\n",
       "      <td>0.000300</td>\n",
       "    </tr>\n",
       "  </tbody>\n",
       "</table>\n",
       "</div>"
      ],
      "text/plain": [
       "              Gene ID Gene Name  UC_vs_NORM_fc  UC_vs_NORM_p\n",
       "1428  ENSG00000085563     ABCB1           -1.1      0.000004\n",
       "1442  ENSG00000085978   ATG16L1           -0.3      0.001568\n",
       "3191  ENSG00000110324    IL10RA           -0.4      0.003647\n",
       "8778  ENSG00000162594     IL23R           -1.5      0.000300"
      ]
     },
     "execution_count": 18,
     "metadata": {},
     "output_type": "execute_result"
    }
   ],
   "source": [
    "# determine which genes in both uc_slice2 & ibd_pathway\n",
    "uc_cond2 = uc_slice2['Gene Name'].isin(ibd_pathway)\n",
    "uc_filter2 = uc_slice2[uc_cond2]\n",
    "uc_filter2.iloc[:, [0,1,10,11]]"
   ]
  },
  {
   "cell_type": "markdown",
   "metadata": {},
   "source": [
    "Four genes--ABCB1, ATG16L1, IL10RA, and IL23R--are in both the IBD pathway and are significantly downregulated in UC. This matches the volcano plot."
   ]
  },
  {
   "cell_type": "code",
   "execution_count": 19,
   "metadata": {},
   "outputs": [
    {
     "name": "stdout",
     "output_type": "stream",
     "text": [
      "k = 4\n",
      "N = 2689\n",
      "n = 12\n",
      "M = 20473\n",
      "Enrichment ratio: 2.5378703359365313\n",
      "p-value: 0.06158279555612233\n"
     ]
    }
   ],
   "source": [
    "# number of genes in uc_cond2\n",
    "k = np.sum(uc_cond2)\n",
    "# number of genes in uc_slice2\n",
    "N = len(uc_slice2)\n",
    "# number of genes in both query_results & ibd_pathway\n",
    "n = np.sum(query_results['Gene Name'].isin(ibd_pathway))\n",
    "# number of genes in query_results\n",
    "M=len(query_results)\n",
    "\n",
    "print('k = ' + str(k))\n",
    "print('N = ' + str(N))\n",
    "print('n = ' + str(n))\n",
    "print('M = ' + str(M))\n",
    "print('Enrichment ratio: ' + str((k/N)/(n/M)))\n",
    "print('p-value: ' + str(scipy.stats.hypergeom.sf(k=k-1,\n",
    "                         N=N,\n",
    "                         n=n,\n",
    "                         M=M)))"
   ]
  },
  {
   "cell_type": "markdown",
   "metadata": {
    "id": "eXPtr104XM0c"
   },
   "source": [
    "The p-value of .06 (> .05) shows that the inflammatory bowel disease pathway isn't significantly diminished in those with ulcerative colitis. This is unexpected, as UC is an IBD so we would expect these genes to be either upregulated or downregulated and neither is true. These results match the volcano plot, which shows an equal number of genes upregualted and downregulated. It is likely that different genes have different roles in UC, with some being signficantly upregualted and others being significantly downregulated. "
   ]
  },
  {
   "cell_type": "markdown",
   "metadata": {},
   "source": [
    "# **KEGG Pathway for Juvenile Idiopathic Arthritis**"
   ]
  },
  {
   "cell_type": "code",
   "execution_count": 20,
   "metadata": {},
   "outputs": [],
   "source": [
    "ra_pathway = ['HLA-DRB1', 'PTPN22', 'CIITA', 'CD244', 'SLC22A4', 'IRF5', 'NFKBIL1', 'IL10', 'IL6', 'MIF']"
   ]
  },
  {
   "cell_type": "markdown",
   "metadata": {},
   "source": [
    "The rheumatoid arthritis (RA) KEGG pathway, H00630, has 10 genes. I selected this pathway because juvenile idiopathic arthritis, which oligoarticular JIA, polyarticular JIA, and systemic JIA are subtypes of, is itself a subtype of RA. I would expect the genes involved in the RA pathway to be either significantly upregulated or significantly downregulated in OJIA, PJIA, and SJIA as a result. I want to see if this dataset matches other research on the genes involved in OJIA, PJIA, and SJIA."
   ]
  },
  {
   "cell_type": "markdown",
   "metadata": {},
   "source": [
    "# **Over-Representation Analysis of Oligoarticular Juvenile Idiopathic Arthritis**"
   ]
  },
  {
   "cell_type": "markdown",
   "metadata": {},
   "source": [
    "I made a volcano plot showing fold-change vs negative log q-value for every gene when OJIA patients are compared to normal patients."
   ]
  },
  {
   "cell_type": "code",
   "execution_count": 21,
   "metadata": {},
   "outputs": [
    {
     "data": {
      "text/plain": [
       "<matplotlib.legend.Legend at 0x16a868f10>"
      ]
     },
     "execution_count": 21,
     "metadata": {},
     "output_type": "execute_result"
    },
    {
     "data": {
      "image/png": "[encoded data removed]",
      "text/plain": [
       "<Figure size 600x600 with 1 Axes>"
      ]
     },
     "metadata": {},
     "output_type": "display_data"
    }
   ],
   "source": [
    "#volcano plot for OJIA vs. normal\n",
    "\n",
    "fig = plt.figure(figsize=(6, 6))\n",
    "plt.scatter(query_results[\"OJIA_vs_NORM_fc\"],\n",
    "            -np.log10(query_results[\"OJIA_vs_NORM_p\"]),\n",
    "            alpha=0.3, s=2, label='Non-Pathway Genes')\n",
    "\n",
    "# Highlight pathway genes with a different color from non-pathway genes\n",
    "pathway_genes_mask = query_results[\"Gene Name\"].isin(ra_pathway)\n",
    "plt.scatter(query_results.loc[pathway_genes_mask, \"OJIA_vs_NORM_fc\"],\n",
    "            -np.log10(query_results.loc[pathway_genes_mask, \"OJIA_vs_NORM_p\"]),\n",
    "            alpha=0.8, s=10, color='red', label='Pathway Genes')\n",
    "\n",
    "ax = plt.gca()\n",
    "ax.tick_params(labelsize=16)\n",
    "ax.set_xlabel(r'$\\log_2$(Fold Change), OJIA vs NORM', fontsize=16)\n",
    "ax.set_ylabel(r'-$\\log_{10}$(q-value)', fontsize=16)\n",
    "ax.set_ylim([0, 10])\n",
    "ax.axhline(-np.log10(0.05), color=sns.color_palette()[3], linestyle='dashed', label='Significance Threshold')\n",
    "\n",
    "# Create legend\n",
    "ax.legend()"
   ]
  },
  {
   "cell_type": "markdown",
   "metadata": {},
   "source": [
    "The volcano plot shows that three genes are both in the RA pathway and the OJIA condition of the dataset. One of these genes is significantly downregulated."
   ]
  },
  {
   "cell_type": "code",
   "execution_count": 22,
   "metadata": {},
   "outputs": [
    {
     "data": {
      "text/html": [
       "<div>\n",
       "<style scoped>\n",
       "    .dataframe tbody tr th:only-of-type {\n",
       "        vertical-align: middle;\n",
       "    }\n",
       "\n",
       "    .dataframe tbody tr th {\n",
       "        vertical-align: top;\n",
       "    }\n",
       "\n",
       "    .dataframe thead th {\n",
       "        text-align: right;\n",
       "    }\n",
       "</style>\n",
       "<table border=\"1\" class=\"dataframe\">\n",
       "  <thead>\n",
       "    <tr style=\"text-align: right;\">\n",
       "      <th></th>\n",
       "      <th>Gene ID</th>\n",
       "      <th>Gene Name</th>\n",
       "      <th>OJIA_vs_NORM_fc</th>\n",
       "      <th>OJIA_vs_NORM_p</th>\n",
       "    </tr>\n",
       "  </thead>\n",
       "  <tbody>\n",
       "    <tr>\n",
       "      <th>114</th>\n",
       "      <td>ENSG00000006459</td>\n",
       "      <td>KDM7A</td>\n",
       "      <td>0.3</td>\n",
       "      <td>0.012969</td>\n",
       "    </tr>\n",
       "    <tr>\n",
       "      <th>235</th>\n",
       "      <td>ENSG00000011114</td>\n",
       "      <td>BTBD7</td>\n",
       "      <td>0.2</td>\n",
       "      <td>0.005352</td>\n",
       "    </tr>\n",
       "    <tr>\n",
       "      <th>241</th>\n",
       "      <td>ENSG00000011258</td>\n",
       "      <td>MBTD1</td>\n",
       "      <td>0.2</td>\n",
       "      <td>0.024524</td>\n",
       "    </tr>\n",
       "    <tr>\n",
       "      <th>529</th>\n",
       "      <td>ENSG00000047634</td>\n",
       "      <td>SCML1</td>\n",
       "      <td>0.5</td>\n",
       "      <td>0.008792</td>\n",
       "    </tr>\n",
       "    <tr>\n",
       "      <th>723</th>\n",
       "      <td>ENSG00000062725</td>\n",
       "      <td>APPBP2</td>\n",
       "      <td>0.3</td>\n",
       "      <td>0.008216</td>\n",
       "    </tr>\n",
       "    <tr>\n",
       "      <th>...</th>\n",
       "      <td>...</td>\n",
       "      <td>...</td>\n",
       "      <td>...</td>\n",
       "      <td>...</td>\n",
       "    </tr>\n",
       "    <tr>\n",
       "      <th>19944</th>\n",
       "      <td>ENSG00000279192</td>\n",
       "      <td>PWAR5</td>\n",
       "      <td>0.6</td>\n",
       "      <td>0.035101</td>\n",
       "    </tr>\n",
       "    <tr>\n",
       "      <th>20018</th>\n",
       "      <td>ENSG00000279561</td>\n",
       "      <td>ENSG00000279561</td>\n",
       "      <td>0.6</td>\n",
       "      <td>0.029305</td>\n",
       "    </tr>\n",
       "    <tr>\n",
       "      <th>20184</th>\n",
       "      <td>ENSG00000280734</td>\n",
       "      <td>LINC01232</td>\n",
       "      <td>0.4</td>\n",
       "      <td>0.035308</td>\n",
       "    </tr>\n",
       "    <tr>\n",
       "      <th>20200</th>\n",
       "      <td>ENSG00000281181</td>\n",
       "      <td>ENSG00000281181</td>\n",
       "      <td>0.7</td>\n",
       "      <td>0.008155</td>\n",
       "    </tr>\n",
       "    <tr>\n",
       "      <th>20219</th>\n",
       "      <td>ENSG00000281649</td>\n",
       "      <td>EBLN3P</td>\n",
       "      <td>0.3</td>\n",
       "      <td>0.025991</td>\n",
       "    </tr>\n",
       "  </tbody>\n",
       "</table>\n",
       "<p>165 rows × 4 columns</p>\n",
       "</div>"
      ],
      "text/plain": [
       "               Gene ID        Gene Name  OJIA_vs_NORM_fc  OJIA_vs_NORM_p\n",
       "114    ENSG00000006459            KDM7A              0.3        0.012969\n",
       "235    ENSG00000011114            BTBD7              0.2        0.005352\n",
       "241    ENSG00000011258            MBTD1              0.2        0.024524\n",
       "529    ENSG00000047634            SCML1              0.5        0.008792\n",
       "723    ENSG00000062725           APPBP2              0.3        0.008216\n",
       "...                ...              ...              ...             ...\n",
       "19944  ENSG00000279192            PWAR5              0.6        0.035101\n",
       "20018  ENSG00000279561  ENSG00000279561              0.6        0.029305\n",
       "20184  ENSG00000280734        LINC01232              0.4        0.035308\n",
       "20200  ENSG00000281181  ENSG00000281181              0.7        0.008155\n",
       "20219  ENSG00000281649           EBLN3P              0.3        0.025991\n",
       "\n",
       "[165 rows x 4 columns]"
      ]
     },
     "execution_count": 22,
     "metadata": {},
     "output_type": "execute_result"
    }
   ],
   "source": [
    "# select genes upregulated in OJIA vs normal\n",
    "fc_ojia = query_results[\"OJIA_vs_NORM_fc\"] > 0\n",
    "# significance threshold of 0.05\n",
    "q_ojia = query_results[\"OJIA_vs_NORM_p\"] < 0.05\n",
    "\n",
    "# collect genes upregulated in OJIA vs normal\n",
    "ojia_slice = query_results[fc_ojia & q_ojia]\n",
    "ojia_slice.iloc[:, [0,1,4,5]]"
   ]
  },
  {
   "cell_type": "markdown",
   "metadata": {},
   "source": [
    "165 of the 58735 genes in the dataset are significantly upregulated in OJIA. This represents .28% of the genes in the dataset."
   ]
  },
  {
   "cell_type": "code",
   "execution_count": 23,
   "metadata": {},
   "outputs": [
    {
     "data": {
      "text/html": [
       "<div>\n",
       "<style scoped>\n",
       "    .dataframe tbody tr th:only-of-type {\n",
       "        vertical-align: middle;\n",
       "    }\n",
       "\n",
       "    .dataframe tbody tr th {\n",
       "        vertical-align: top;\n",
       "    }\n",
       "\n",
       "    .dataframe thead th {\n",
       "        text-align: right;\n",
       "    }\n",
       "</style>\n",
       "<table border=\"1\" class=\"dataframe\">\n",
       "  <thead>\n",
       "    <tr style=\"text-align: right;\">\n",
       "      <th></th>\n",
       "      <th>Gene ID</th>\n",
       "      <th>Gene Name</th>\n",
       "      <th>OJIA_vs_NORM_fc</th>\n",
       "      <th>OJIA_vs_NORM_p</th>\n",
       "    </tr>\n",
       "  </thead>\n",
       "  <tbody>\n",
       "  </tbody>\n",
       "</table>\n",
       "</div>"
      ],
      "text/plain": [
       "Empty DataFrame\n",
       "Columns: [Gene ID, Gene Name, OJIA_vs_NORM_fc, OJIA_vs_NORM_p]\n",
       "Index: []"
      ]
     },
     "execution_count": 23,
     "metadata": {},
     "output_type": "execute_result"
    }
   ],
   "source": [
    "# determine which genes in both ojia_slice & ra_pathway\n",
    "ojia_cond = ojia_slice['Gene Name'].isin(ra_pathway)\n",
    "ojia_filter = ojia_slice[ojia_cond]\n",
    "ojia_filter.iloc[:, [0,1,4,5]]"
   ]
  },
  {
   "cell_type": "markdown",
   "metadata": {},
   "source": [
    "No genes are in both the RA pathway and are significantly upregulated in OJIA. This matches the volcano plot and means that the RA pathway itself isn't significantly upregulated in OJIA. Now I will look at genes that are significantly downregulated in OJIA."
   ]
  },
  {
   "cell_type": "code",
   "execution_count": 24,
   "metadata": {},
   "outputs": [
    {
     "data": {
      "text/html": [
       "<div>\n",
       "<style scoped>\n",
       "    .dataframe tbody tr th:only-of-type {\n",
       "        vertical-align: middle;\n",
       "    }\n",
       "\n",
       "    .dataframe tbody tr th {\n",
       "        vertical-align: top;\n",
       "    }\n",
       "\n",
       "    .dataframe thead th {\n",
       "        text-align: right;\n",
       "    }\n",
       "</style>\n",
       "<table border=\"1\" class=\"dataframe\">\n",
       "  <thead>\n",
       "    <tr style=\"text-align: right;\">\n",
       "      <th></th>\n",
       "      <th>Gene ID</th>\n",
       "      <th>Gene Name</th>\n",
       "      <th>OJIA_vs_NORM_fc</th>\n",
       "      <th>OJIA_vs_NORM_p</th>\n",
       "    </tr>\n",
       "  </thead>\n",
       "  <tbody>\n",
       "    <tr>\n",
       "      <th>19</th>\n",
       "      <td>ENSG00000002586</td>\n",
       "      <td>CD99</td>\n",
       "      <td>-0.3</td>\n",
       "      <td>0.013957</td>\n",
       "    </tr>\n",
       "    <tr>\n",
       "      <th>81</th>\n",
       "      <td>ENSG00000005379</td>\n",
       "      <td>TSPOAP1</td>\n",
       "      <td>-0.7</td>\n",
       "      <td>0.000970</td>\n",
       "    </tr>\n",
       "    <tr>\n",
       "      <th>94</th>\n",
       "      <td>ENSG00000005844</td>\n",
       "      <td>ITGAL</td>\n",
       "      <td>-0.3</td>\n",
       "      <td>0.003022</td>\n",
       "    </tr>\n",
       "    <tr>\n",
       "      <th>117</th>\n",
       "      <td>ENSG00000006555</td>\n",
       "      <td>TTC22</td>\n",
       "      <td>-0.4</td>\n",
       "      <td>0.033178</td>\n",
       "    </tr>\n",
       "    <tr>\n",
       "      <th>144</th>\n",
       "      <td>ENSG00000007264</td>\n",
       "      <td>MATK</td>\n",
       "      <td>-0.6</td>\n",
       "      <td>0.003035</td>\n",
       "    </tr>\n",
       "    <tr>\n",
       "      <th>...</th>\n",
       "      <td>...</td>\n",
       "      <td>...</td>\n",
       "      <td>...</td>\n",
       "      <td>...</td>\n",
       "    </tr>\n",
       "    <tr>\n",
       "      <th>19527</th>\n",
       "      <td>ENSG00000274588</td>\n",
       "      <td>DGKK</td>\n",
       "      <td>-0.7</td>\n",
       "      <td>0.009356</td>\n",
       "    </tr>\n",
       "    <tr>\n",
       "      <th>19550</th>\n",
       "      <td>ENSG00000274897</td>\n",
       "      <td>ENSG00000274897</td>\n",
       "      <td>-0.6</td>\n",
       "      <td>0.033478</td>\n",
       "    </tr>\n",
       "    <tr>\n",
       "      <th>19588</th>\n",
       "      <td>ENSG00000275302</td>\n",
       "      <td>CCL4</td>\n",
       "      <td>-0.6</td>\n",
       "      <td>0.007802</td>\n",
       "    </tr>\n",
       "    <tr>\n",
       "      <th>19659</th>\n",
       "      <td>ENSG00000276070</td>\n",
       "      <td>CCL4L2</td>\n",
       "      <td>-0.8</td>\n",
       "      <td>0.002529</td>\n",
       "    </tr>\n",
       "    <tr>\n",
       "      <th>19703</th>\n",
       "      <td>ENSG00000276600</td>\n",
       "      <td>RAB7B</td>\n",
       "      <td>-0.6</td>\n",
       "      <td>0.024564</td>\n",
       "    </tr>\n",
       "  </tbody>\n",
       "</table>\n",
       "<p>311 rows × 4 columns</p>\n",
       "</div>"
      ],
      "text/plain": [
       "               Gene ID        Gene Name  OJIA_vs_NORM_fc  OJIA_vs_NORM_p\n",
       "19     ENSG00000002586             CD99             -0.3        0.013957\n",
       "81     ENSG00000005379          TSPOAP1             -0.7        0.000970\n",
       "94     ENSG00000005844            ITGAL             -0.3        0.003022\n",
       "117    ENSG00000006555            TTC22             -0.4        0.033178\n",
       "144    ENSG00000007264             MATK             -0.6        0.003035\n",
       "...                ...              ...              ...             ...\n",
       "19527  ENSG00000274588             DGKK             -0.7        0.009356\n",
       "19550  ENSG00000274897  ENSG00000274897             -0.6        0.033478\n",
       "19588  ENSG00000275302             CCL4             -0.6        0.007802\n",
       "19659  ENSG00000276070           CCL4L2             -0.8        0.002529\n",
       "19703  ENSG00000276600            RAB7B             -0.6        0.024564\n",
       "\n",
       "[311 rows x 4 columns]"
      ]
     },
     "execution_count": 24,
     "metadata": {},
     "output_type": "execute_result"
    }
   ],
   "source": [
    "# select genes downregulated in OJIA vs normal\n",
    "fc_ojia2 = query_results[\"OJIA_vs_NORM_fc\"] < 0\n",
    "# significance threshold of 0.05\n",
    "q_ojia2 = query_results[\"OJIA_vs_NORM_p\"] < 0.05\n",
    "\n",
    "# collect genes downregulated in OJIA vs normal\n",
    "ojia_slice2 = query_results[fc_ojia2 & q_ojia2]\n",
    "ojia_slice2.iloc[:, [0,1,4,5]]"
   ]
  },
  {
   "cell_type": "markdown",
   "metadata": {},
   "source": [
    "311 of the 58735 genes in the dataset are significantly upregulated in OJIA. This represents .53% of the genes in the dataset."
   ]
  },
  {
   "cell_type": "code",
   "execution_count": 25,
   "metadata": {},
   "outputs": [
    {
     "data": {
      "text/html": [
       "<div>\n",
       "<style scoped>\n",
       "    .dataframe tbody tr th:only-of-type {\n",
       "        vertical-align: middle;\n",
       "    }\n",
       "\n",
       "    .dataframe tbody tr th {\n",
       "        vertical-align: top;\n",
       "    }\n",
       "\n",
       "    .dataframe thead th {\n",
       "        text-align: right;\n",
       "    }\n",
       "</style>\n",
       "<table border=\"1\" class=\"dataframe\">\n",
       "  <thead>\n",
       "    <tr style=\"text-align: right;\">\n",
       "      <th></th>\n",
       "      <th>Gene ID</th>\n",
       "      <th>Gene Name</th>\n",
       "      <th>OJIA_vs_NORM_fc</th>\n",
       "      <th>OJIA_vs_NORM_p</th>\n",
       "    </tr>\n",
       "  </thead>\n",
       "  <tbody>\n",
       "    <tr>\n",
       "      <th>4414</th>\n",
       "      <td>ENSG00000122223</td>\n",
       "      <td>CD244</td>\n",
       "      <td>-0.5</td>\n",
       "      <td>0.000108</td>\n",
       "    </tr>\n",
       "  </tbody>\n",
       "</table>\n",
       "</div>"
      ],
      "text/plain": [
       "              Gene ID Gene Name  OJIA_vs_NORM_fc  OJIA_vs_NORM_p\n",
       "4414  ENSG00000122223     CD244             -0.5        0.000108"
      ]
     },
     "execution_count": 25,
     "metadata": {},
     "output_type": "execute_result"
    }
   ],
   "source": [
    "# determine which genes in both ojia_slice & ra_pathway\n",
    "ojia_cond2 = ojia_slice2['Gene Name'].isin(ra_pathway)\n",
    "ojia_filter2 = ojia_slice2[ojia_cond2]\n",
    "ojia_filter2.iloc[:, [0,1,4,5]]"
   ]
  },
  {
   "cell_type": "markdown",
   "metadata": {},
   "source": [
    "One gene, CD244, is in both the RA pathway and is significantly downregulated in OJIA. This matches the volcano plot"
   ]
  },
  {
   "cell_type": "code",
   "execution_count": 26,
   "metadata": {},
   "outputs": [
    {
     "name": "stdout",
     "output_type": "stream",
     "text": [
      "k = 1\n",
      "N = 311\n",
      "n = 10\n",
      "M = 20473\n",
      "Enrichment ratio: 6.582958199356914\n",
      "p-value: 0.1419620223650477\n"
     ]
    }
   ],
   "source": [
    "# number of genes in ojia_cond2\n",
    "k = np.sum(ojia_cond2)\n",
    "# number of genes in ojia_slice2\n",
    "N = len(ojia_slice2)\n",
    "# number of genes in both query_results & ra_pathway\n",
    "n = np.sum(query_results['Gene Name'].isin(ra_pathway))\n",
    "# number of genes in query_results\n",
    "M=len(query_results)\n",
    "\n",
    "print('k = ' + str(k))\n",
    "print('N = ' + str(N))\n",
    "print('n = ' + str(n))\n",
    "print('M = ' + str(M))\n",
    "print('Enrichment ratio: ' + str((k/N)/(n/M)))\n",
    "print('p-value: ' + str(scipy.stats.hypergeom.sf(k=k-1,\n",
    "                         N=N,\n",
    "                         n=n,\n",
    "                         M=M)))"
   ]
  },
  {
   "cell_type": "markdown",
   "metadata": {},
   "source": [
    "The p-value of .14 (> .05) shows that the RA pathway isn't significantly diminished in those with OJIA. This is unexpected, as OJIA is an RA so we would expect these genes to be either upregulated or downregulated and neither is true. These results correspond to the volcano plot, which shows three genes downregulated but only one of those significantly downregulated. It's likely that the dataset doesn't contain enough genes from the RA pathway to show significant enrichment or diminishment in patients with OJIA."
   ]
  },
  {
   "cell_type": "markdown",
   "metadata": {},
   "source": [
    "# **Over-Representation Analysis of Polyarticular Juvenile Idiopathic Arthritis**"
   ]
  },
  {
   "cell_type": "markdown",
   "metadata": {},
   "source": [
    "I made a volcano plot showing fold-change vs negative log q-value for every gene when PJIA patients are compared to normal patients."
   ]
  },
  {
   "cell_type": "code",
   "execution_count": 27,
   "metadata": {},
   "outputs": [
    {
     "data": {
      "text/plain": [
       "<matplotlib.legend.Legend at 0x16aa40f10>"
      ]
     },
     "execution_count": 27,
     "metadata": {},
     "output_type": "execute_result"
    },
    {
     "data": {
      "image/png": "[encoded data removed]",
      "text/plain": [
       "<Figure size 600x600 with 1 Axes>"
      ]
     },
     "metadata": {},
     "output_type": "display_data"
    }
   ],
   "source": [
    "#volcano plot for PJIA vs. normal\n",
    "\n",
    "fig = plt.figure(figsize=(6, 6))\n",
    "plt.scatter(query_results[\"PJIA_vs_NORM_fc\"],\n",
    "            -np.log10(query_results[\"PJIA_vs_NORM_p\"]),\n",
    "            alpha=0.3, s=2, label='Non-Pathway Genes')\n",
    "\n",
    "# Highlight pathway genes with a different color from non-pathway genes\n",
    "pathway_genes_mask = query_results[\"Gene Name\"].isin(ra_pathway)\n",
    "plt.scatter(query_results.loc[pathway_genes_mask, \"PJIA_vs_NORM_fc\"],\n",
    "            -np.log10(query_results.loc[pathway_genes_mask, \"PJIA_vs_NORM_p\"]),\n",
    "            alpha=0.8, s=10, color='red', label='Pathway Genes')\n",
    "\n",
    "ax = plt.gca()\n",
    "ax.tick_params(labelsize=16)\n",
    "ax.set_xlabel(r'$\\log_2$(Fold Change), PJIA vs NORM', fontsize=16)\n",
    "ax.set_ylabel(r'-$\\log_{10}$(q-value)', fontsize=16)\n",
    "ax.set_ylim([0, 10])\n",
    "ax.axhline(-np.log10(0.05), color=sns.color_palette()[3], linestyle='dashed', label='Significance Threshold')\n",
    "\n",
    "# Create legend\n",
    "ax.legend()"
   ]
  },
  {
   "cell_type": "markdown",
   "metadata": {},
   "source": [
    "The volcano plot shows that seven genes are both in the RA pathway and the PJIA of the dataset. One of these genes is significantly downregulated."
   ]
  },
  {
   "cell_type": "code",
   "execution_count": 28,
   "metadata": {},
   "outputs": [
    {
     "data": {
      "text/html": [
       "<div>\n",
       "<style scoped>\n",
       "    .dataframe tbody tr th:only-of-type {\n",
       "        vertical-align: middle;\n",
       "    }\n",
       "\n",
       "    .dataframe tbody tr th {\n",
       "        vertical-align: top;\n",
       "    }\n",
       "\n",
       "    .dataframe thead th {\n",
       "        text-align: right;\n",
       "    }\n",
       "</style>\n",
       "<table border=\"1\" class=\"dataframe\">\n",
       "  <thead>\n",
       "    <tr style=\"text-align: right;\">\n",
       "      <th></th>\n",
       "      <th>Gene ID</th>\n",
       "      <th>Gene Name</th>\n",
       "      <th>PJIA_vs_NORM_fc</th>\n",
       "      <th>PJIA_vs_NORM_p</th>\n",
       "    </tr>\n",
       "  </thead>\n",
       "  <tbody>\n",
       "    <tr>\n",
       "      <th>64</th>\n",
       "      <td>ENSG00000005020</td>\n",
       "      <td>SKAP2</td>\n",
       "      <td>0.4</td>\n",
       "      <td>0.037269</td>\n",
       "    </tr>\n",
       "    <tr>\n",
       "      <th>71</th>\n",
       "      <td>ENSG00000005175</td>\n",
       "      <td>RPAP3</td>\n",
       "      <td>0.3</td>\n",
       "      <td>0.016098</td>\n",
       "    </tr>\n",
       "    <tr>\n",
       "      <th>78</th>\n",
       "      <td>ENSG00000005249</td>\n",
       "      <td>PRKAR2B</td>\n",
       "      <td>0.8</td>\n",
       "      <td>0.004781</td>\n",
       "    </tr>\n",
       "    <tr>\n",
       "      <th>93</th>\n",
       "      <td>ENSG00000005812</td>\n",
       "      <td>FBXL3</td>\n",
       "      <td>0.4</td>\n",
       "      <td>0.017895</td>\n",
       "    </tr>\n",
       "    <tr>\n",
       "      <th>97</th>\n",
       "      <td>ENSG00000005889</td>\n",
       "      <td>ZFX</td>\n",
       "      <td>0.3</td>\n",
       "      <td>0.011779</td>\n",
       "    </tr>\n",
       "    <tr>\n",
       "      <th>...</th>\n",
       "      <td>...</td>\n",
       "      <td>...</td>\n",
       "      <td>...</td>\n",
       "      <td>...</td>\n",
       "    </tr>\n",
       "    <tr>\n",
       "      <th>20102</th>\n",
       "      <td>ENSG00000280035</td>\n",
       "      <td>ENSG00000280035</td>\n",
       "      <td>0.6</td>\n",
       "      <td>0.033140</td>\n",
       "    </tr>\n",
       "    <tr>\n",
       "      <th>20184</th>\n",
       "      <td>ENSG00000280734</td>\n",
       "      <td>LINC01232</td>\n",
       "      <td>0.4</td>\n",
       "      <td>0.019423</td>\n",
       "    </tr>\n",
       "    <tr>\n",
       "      <th>20308</th>\n",
       "      <td>ENSG00000283743</td>\n",
       "      <td>ENSG00000283743</td>\n",
       "      <td>0.6</td>\n",
       "      <td>0.043186</td>\n",
       "    </tr>\n",
       "    <tr>\n",
       "      <th>20374</th>\n",
       "      <td>ENSG00000285006</td>\n",
       "      <td>ENSG00000285006</td>\n",
       "      <td>0.6</td>\n",
       "      <td>0.049020</td>\n",
       "    </tr>\n",
       "    <tr>\n",
       "      <th>20393</th>\n",
       "      <td>ENSG00000285399</td>\n",
       "      <td>ENSG00000285399</td>\n",
       "      <td>0.6</td>\n",
       "      <td>0.011555</td>\n",
       "    </tr>\n",
       "  </tbody>\n",
       "</table>\n",
       "<p>968 rows × 4 columns</p>\n",
       "</div>"
      ],
      "text/plain": [
       "               Gene ID        Gene Name  PJIA_vs_NORM_fc  PJIA_vs_NORM_p\n",
       "64     ENSG00000005020            SKAP2              0.4        0.037269\n",
       "71     ENSG00000005175            RPAP3              0.3        0.016098\n",
       "78     ENSG00000005249          PRKAR2B              0.8        0.004781\n",
       "93     ENSG00000005812            FBXL3              0.4        0.017895\n",
       "97     ENSG00000005889              ZFX              0.3        0.011779\n",
       "...                ...              ...              ...             ...\n",
       "20102  ENSG00000280035  ENSG00000280035              0.6        0.033140\n",
       "20184  ENSG00000280734        LINC01232              0.4        0.019423\n",
       "20308  ENSG00000283743  ENSG00000283743              0.6        0.043186\n",
       "20374  ENSG00000285006  ENSG00000285006              0.6        0.049020\n",
       "20393  ENSG00000285399  ENSG00000285399              0.6        0.011555\n",
       "\n",
       "[968 rows x 4 columns]"
      ]
     },
     "execution_count": 28,
     "metadata": {},
     "output_type": "execute_result"
    }
   ],
   "source": [
    "# select genes upregulated in PJIA vs normal\n",
    "fc_pjia = query_results[\"PJIA_vs_NORM_fc\"] > 0\n",
    "# significance threshold of 0.05\n",
    "q_pjia = query_results[\"PJIA_vs_NORM_p\"] < 0.05\n",
    "\n",
    "# collect genes upregulated in PJIA vs normal\n",
    "pjia_slice = query_results[fc_pjia & q_pjia]\n",
    "pjia_slice.iloc[:, [0,1,6,7]]"
   ]
  },
  {
   "cell_type": "markdown",
   "metadata": {},
   "source": [
    "968 of the 58735 genes in the dataset are significantly upregulated in PJIA. This represents 1.65% of the genes in the dataset."
   ]
  },
  {
   "cell_type": "code",
   "execution_count": 29,
   "metadata": {},
   "outputs": [
    {
     "data": {
      "text/html": [
       "<div>\n",
       "<style scoped>\n",
       "    .dataframe tbody tr th:only-of-type {\n",
       "        vertical-align: middle;\n",
       "    }\n",
       "\n",
       "    .dataframe tbody tr th {\n",
       "        vertical-align: top;\n",
       "    }\n",
       "\n",
       "    .dataframe thead th {\n",
       "        text-align: right;\n",
       "    }\n",
       "</style>\n",
       "<table border=\"1\" class=\"dataframe\">\n",
       "  <thead>\n",
       "    <tr style=\"text-align: right;\">\n",
       "      <th></th>\n",
       "      <th>Gene ID</th>\n",
       "      <th>Gene Name</th>\n",
       "      <th>PJIA_vs_NORM_fc</th>\n",
       "      <th>PJIA_vs_NORM_p</th>\n",
       "    </tr>\n",
       "  </thead>\n",
       "  <tbody>\n",
       "  </tbody>\n",
       "</table>\n",
       "</div>"
      ],
      "text/plain": [
       "Empty DataFrame\n",
       "Columns: [Gene ID, Gene Name, PJIA_vs_NORM_fc, PJIA_vs_NORM_p]\n",
       "Index: []"
      ]
     },
     "execution_count": 29,
     "metadata": {},
     "output_type": "execute_result"
    }
   ],
   "source": [
    "# determine which genes in both pjia_slice & ra_pathway\n",
    "pjia_cond = pjia_slice['Gene Name'].isin(ra_pathway)\n",
    "pjia_filter = pjia_slice[pjia_cond]\n",
    "pjia_filter.iloc[:, [0,1,6,7]]"
   ]
  },
  {
   "cell_type": "markdown",
   "metadata": {},
   "source": [
    "No genes are in both the RA pathway and are significantly upregulated in PJIA. This matches the volcano plot and means that the RA pathway itself isn't significantly upregulated in PJIA. Now I will look at genes that are significantly downregulated in PJIA."
   ]
  },
  {
   "cell_type": "code",
   "execution_count": 30,
   "metadata": {},
   "outputs": [
    {
     "data": {
      "text/html": [
       "<div>\n",
       "<style scoped>\n",
       "    .dataframe tbody tr th:only-of-type {\n",
       "        vertical-align: middle;\n",
       "    }\n",
       "\n",
       "    .dataframe tbody tr th {\n",
       "        vertical-align: top;\n",
       "    }\n",
       "\n",
       "    .dataframe thead th {\n",
       "        text-align: right;\n",
       "    }\n",
       "</style>\n",
       "<table border=\"1\" class=\"dataframe\">\n",
       "  <thead>\n",
       "    <tr style=\"text-align: right;\">\n",
       "      <th></th>\n",
       "      <th>Gene ID</th>\n",
       "      <th>Gene Name</th>\n",
       "      <th>PJIA_vs_NORM_fc</th>\n",
       "      <th>PJIA_vs_NORM_p</th>\n",
       "    </tr>\n",
       "  </thead>\n",
       "  <tbody>\n",
       "    <tr>\n",
       "      <th>19</th>\n",
       "      <td>ENSG00000002586</td>\n",
       "      <td>CD99</td>\n",
       "      <td>-0.3</td>\n",
       "      <td>0.022515</td>\n",
       "    </tr>\n",
       "    <tr>\n",
       "      <th>23</th>\n",
       "      <td>ENSG00000002822</td>\n",
       "      <td>MAD1L1</td>\n",
       "      <td>-0.4</td>\n",
       "      <td>0.036495</td>\n",
       "    </tr>\n",
       "    <tr>\n",
       "      <th>27</th>\n",
       "      <td>ENSG00000003056</td>\n",
       "      <td>M6PR</td>\n",
       "      <td>-0.2</td>\n",
       "      <td>0.039884</td>\n",
       "    </tr>\n",
       "    <tr>\n",
       "      <th>81</th>\n",
       "      <td>ENSG00000005379</td>\n",
       "      <td>TSPOAP1</td>\n",
       "      <td>-0.8</td>\n",
       "      <td>0.000676</td>\n",
       "    </tr>\n",
       "    <tr>\n",
       "      <th>84</th>\n",
       "      <td>ENSG00000005448</td>\n",
       "      <td>WDR54</td>\n",
       "      <td>-0.4</td>\n",
       "      <td>0.029171</td>\n",
       "    </tr>\n",
       "    <tr>\n",
       "      <th>...</th>\n",
       "      <td>...</td>\n",
       "      <td>...</td>\n",
       "      <td>...</td>\n",
       "      <td>...</td>\n",
       "    </tr>\n",
       "    <tr>\n",
       "      <th>19703</th>\n",
       "      <td>ENSG00000276600</td>\n",
       "      <td>RAB7B</td>\n",
       "      <td>-0.8</td>\n",
       "      <td>0.010707</td>\n",
       "    </tr>\n",
       "    <tr>\n",
       "      <th>19744</th>\n",
       "      <td>ENSG00000277147</td>\n",
       "      <td>LINC00869</td>\n",
       "      <td>-0.3</td>\n",
       "      <td>0.033140</td>\n",
       "    </tr>\n",
       "    <tr>\n",
       "      <th>19808</th>\n",
       "      <td>ENSG00000277969</td>\n",
       "      <td>ENSG00000277969</td>\n",
       "      <td>-0.3</td>\n",
       "      <td>0.041699</td>\n",
       "    </tr>\n",
       "    <tr>\n",
       "      <th>19809</th>\n",
       "      <td>ENSG00000277972</td>\n",
       "      <td>CISD3</td>\n",
       "      <td>-0.5</td>\n",
       "      <td>0.005255</td>\n",
       "    </tr>\n",
       "    <tr>\n",
       "      <th>20197</th>\n",
       "      <td>ENSG00000281103</td>\n",
       "      <td>TRG-AS1</td>\n",
       "      <td>-0.3</td>\n",
       "      <td>0.045119</td>\n",
       "    </tr>\n",
       "  </tbody>\n",
       "</table>\n",
       "<p>766 rows × 4 columns</p>\n",
       "</div>"
      ],
      "text/plain": [
       "               Gene ID        Gene Name  PJIA_vs_NORM_fc  PJIA_vs_NORM_p\n",
       "19     ENSG00000002586             CD99             -0.3        0.022515\n",
       "23     ENSG00000002822           MAD1L1             -0.4        0.036495\n",
       "27     ENSG00000003056             M6PR             -0.2        0.039884\n",
       "81     ENSG00000005379          TSPOAP1             -0.8        0.000676\n",
       "84     ENSG00000005448            WDR54             -0.4        0.029171\n",
       "...                ...              ...              ...             ...\n",
       "19703  ENSG00000276600            RAB7B             -0.8        0.010707\n",
       "19744  ENSG00000277147        LINC00869             -0.3        0.033140\n",
       "19808  ENSG00000277969  ENSG00000277969             -0.3        0.041699\n",
       "19809  ENSG00000277972            CISD3             -0.5        0.005255\n",
       "20197  ENSG00000281103          TRG-AS1             -0.3        0.045119\n",
       "\n",
       "[766 rows x 4 columns]"
      ]
     },
     "execution_count": 30,
     "metadata": {},
     "output_type": "execute_result"
    }
   ],
   "source": [
    "# select genes downregulated in PJIA vs normal\n",
    "fc_pjia2 = query_results[\"PJIA_vs_NORM_fc\"] < 0\n",
    "# significance threshold of 0.05\n",
    "q_pjia2 = query_results[\"PJIA_vs_NORM_p\"] < 0.05\n",
    "\n",
    "# collect genes downregulated in PJIA vs normal\n",
    "pjia_slice2 = query_results[fc_pjia2 & q_pjia2]\n",
    "pjia_slice2.iloc[:, [0,1,6,7]]"
   ]
  },
  {
   "cell_type": "markdown",
   "metadata": {},
   "source": [
    "766 of the 58735 genes in the dataset are significantly upregulated in PJIA. This represents 1.30% of the genes in the dataset."
   ]
  },
  {
   "cell_type": "code",
   "execution_count": 31,
   "metadata": {},
   "outputs": [
    {
     "data": {
      "text/html": [
       "<div>\n",
       "<style scoped>\n",
       "    .dataframe tbody tr th:only-of-type {\n",
       "        vertical-align: middle;\n",
       "    }\n",
       "\n",
       "    .dataframe tbody tr th {\n",
       "        vertical-align: top;\n",
       "    }\n",
       "\n",
       "    .dataframe thead th {\n",
       "        text-align: right;\n",
       "    }\n",
       "</style>\n",
       "<table border=\"1\" class=\"dataframe\">\n",
       "  <thead>\n",
       "    <tr style=\"text-align: right;\">\n",
       "      <th></th>\n",
       "      <th>Gene ID</th>\n",
       "      <th>Gene Name</th>\n",
       "      <th>PJIA_vs_NORM_fc</th>\n",
       "      <th>PJIA_vs_NORM_p</th>\n",
       "    </tr>\n",
       "  </thead>\n",
       "  <tbody>\n",
       "    <tr>\n",
       "      <th>4414</th>\n",
       "      <td>ENSG00000122223</td>\n",
       "      <td>CD244</td>\n",
       "      <td>-0.5</td>\n",
       "      <td>0.000771</td>\n",
       "    </tr>\n",
       "  </tbody>\n",
       "</table>\n",
       "</div>"
      ],
      "text/plain": [
       "              Gene ID Gene Name  PJIA_vs_NORM_fc  PJIA_vs_NORM_p\n",
       "4414  ENSG00000122223     CD244             -0.5        0.000771"
      ]
     },
     "execution_count": 31,
     "metadata": {},
     "output_type": "execute_result"
    }
   ],
   "source": [
    "# determine which genes in both pjia_slice2 & ra_pathway\n",
    "pjia_cond2 = pjia_slice2['Gene Name'].isin(ra_pathway)\n",
    "pjia_filter2 = pjia_slice2[pjia_cond2]\n",
    "pjia_filter2.iloc[:, [0,1,6,7]]"
   ]
  },
  {
   "cell_type": "markdown",
   "metadata": {},
   "source": [
    "One gene, CD244, is in both the RA pathway and is significantly downregulated in PJIA. This matches the volcano plot. Notably, this is the only gene from the RA pathway that was significantly downregulated in OJIA."
   ]
  },
  {
   "cell_type": "code",
   "execution_count": 32,
   "metadata": {},
   "outputs": [
    {
     "name": "stdout",
     "output_type": "stream",
     "text": [
      "k = 1\n",
      "N = 766\n",
      "n = 10\n",
      "M = 20473\n",
      "Enrichment ratio: 2.6727154046997392\n",
      "p-value: 0.3171061751210223\n"
     ]
    }
   ],
   "source": [
    "# number of genes in pjia_cond2\n",
    "k = np.sum(pjia_cond2)\n",
    "# number of genes in pjia_slice2\n",
    "N = len(pjia_slice2)\n",
    "# number of genes in both query_results & ra_pathway\n",
    "n = np.sum(query_results['Gene Name'].isin(ra_pathway))\n",
    "# number of genes in query_results\n",
    "M=len(query_results)\n",
    "\n",
    "print('k = ' + str(k))\n",
    "print('N = ' + str(N))\n",
    "print('n = ' + str(n))\n",
    "print('M = ' + str(M))\n",
    "print('Enrichment ratio: ' + str((k/N)/(n/M)))\n",
    "print('p-value: ' + str(scipy.stats.hypergeom.sf(k=k-1,\n",
    "                         N=N,\n",
    "                         n=n,\n",
    "                         M=M)))"
   ]
  },
  {
   "cell_type": "markdown",
   "metadata": {},
   "source": [
    "The p-value of .32 (> .05) shows that the RA pathway isn't significantly diminished in those with PJIA. This is unexpected, as PJIA is an RA so we would expect these genes to be either upregulated or downregulated and neither is true. These results correspond to the volcano plot, which shows several genes, but only one of which is significantly downregulated. These results also correspond to the results for OJIA, which didn't have significant enrichment or diminishment of the RA pathway."
   ]
  },
  {
   "cell_type": "markdown",
   "metadata": {},
   "source": [
    "# **Over-Representation Analysis of Systemic Juvenile Idiopathic Arthritis**"
   ]
  },
  {
   "cell_type": "markdown",
   "metadata": {},
   "source": [
    "I made a volcano plot showing fold-change vs negative log q-value for every gene when SJIA patients are compared to normal patients."
   ]
  },
  {
   "cell_type": "code",
   "execution_count": 33,
   "metadata": {},
   "outputs": [
    {
     "data": {
      "text/plain": [
       "<matplotlib.legend.Legend at 0x16a988e10>"
      ]
     },
     "execution_count": 33,
     "metadata": {},
     "output_type": "execute_result"
    },
    {
     "data": {
      "image/png": "[encoded data removed]",
      "text/plain": [
       "<Figure size 600x600 with 1 Axes>"
      ]
     },
     "metadata": {},
     "output_type": "display_data"
    }
   ],
   "source": [
    "#volcano plot for PJIA vs. normal\n",
    "\n",
    "fig = plt.figure(figsize=(6, 6))\n",
    "plt.scatter(query_results[\"SJIA_vs_NORM_fc\"],\n",
    "            -np.log10(query_results[\"SJIA_vs_NORM_p\"]),\n",
    "            alpha=0.3, s=2, label='Non-Pathway Genes')\n",
    "\n",
    "# Highlight pathway genes with a different color from non-pathway genes\n",
    "pathway_genes_mask = query_results[\"Gene Name\"].isin(ra_pathway)\n",
    "plt.scatter(query_results.loc[pathway_genes_mask, \"SJIA_vs_NORM_fc\"],\n",
    "            -np.log10(query_results.loc[pathway_genes_mask, \"SJIA_vs_NORM_p\"]),\n",
    "            alpha=0.8, s=10, color='red', label='Pathway Genes')\n",
    "\n",
    "ax = plt.gca()\n",
    "ax.tick_params(labelsize=16)\n",
    "ax.set_xlabel(r'$\\log_2$(Fold Change), SJIA vs NORM', fontsize=16)\n",
    "ax.set_ylabel(r'-$\\log_{10}$(q-value)', fontsize=16)\n",
    "ax.set_ylim([0, 10])\n",
    "ax.axhline(-np.log10(0.05), color=sns.color_palette()[3], linestyle='dashed', label='Significance Threshold')\n",
    "\n",
    "# Create legend\n",
    "ax.legend()"
   ]
  },
  {
   "cell_type": "markdown",
   "metadata": {},
   "source": [
    "The volcano plot shows that seven genes are both in the RA pathway and the SJIA condition of the dataset. One of these genes is significantly downregulated, and one is significantly upregulated."
   ]
  },
  {
   "cell_type": "code",
   "execution_count": 41,
   "metadata": {},
   "outputs": [
    {
     "data": {
      "text/html": [
       "<div>\n",
       "<style scoped>\n",
       "    .dataframe tbody tr th:only-of-type {\n",
       "        vertical-align: middle;\n",
       "    }\n",
       "\n",
       "    .dataframe tbody tr th {\n",
       "        vertical-align: top;\n",
       "    }\n",
       "\n",
       "    .dataframe thead th {\n",
       "        text-align: right;\n",
       "    }\n",
       "</style>\n",
       "<table border=\"1\" class=\"dataframe\">\n",
       "  <thead>\n",
       "    <tr style=\"text-align: right;\">\n",
       "      <th></th>\n",
       "      <th>Gene ID</th>\n",
       "      <th>Gene Name</th>\n",
       "      <th>SJIA_vs_NORM_fc</th>\n",
       "      <th>SJIA_vs_NORM_p</th>\n",
       "    </tr>\n",
       "  </thead>\n",
       "  <tbody>\n",
       "    <tr>\n",
       "      <th>21</th>\n",
       "      <td>ENSG00000002726</td>\n",
       "      <td>AOC1</td>\n",
       "      <td>1.1</td>\n",
       "      <td>0.026779</td>\n",
       "    </tr>\n",
       "    <tr>\n",
       "      <th>34</th>\n",
       "      <td>ENSG00000003402</td>\n",
       "      <td>CFLAR</td>\n",
       "      <td>0.8</td>\n",
       "      <td>0.009191</td>\n",
       "    </tr>\n",
       "    <tr>\n",
       "      <th>58</th>\n",
       "      <td>ENSG00000004897</td>\n",
       "      <td>CDC27</td>\n",
       "      <td>0.3</td>\n",
       "      <td>0.038024</td>\n",
       "    </tr>\n",
       "    <tr>\n",
       "      <th>59</th>\n",
       "      <td>ENSG00000004939</td>\n",
       "      <td>SLC4A1</td>\n",
       "      <td>1.1</td>\n",
       "      <td>0.018914</td>\n",
       "    </tr>\n",
       "    <tr>\n",
       "      <th>64</th>\n",
       "      <td>ENSG00000005020</td>\n",
       "      <td>SKAP2</td>\n",
       "      <td>0.6</td>\n",
       "      <td>0.024003</td>\n",
       "    </tr>\n",
       "    <tr>\n",
       "      <th>...</th>\n",
       "      <td>...</td>\n",
       "      <td>...</td>\n",
       "      <td>...</td>\n",
       "      <td>...</td>\n",
       "    </tr>\n",
       "    <tr>\n",
       "      <th>20393</th>\n",
       "      <td>ENSG00000285399</td>\n",
       "      <td>ENSG00000285399</td>\n",
       "      <td>0.9</td>\n",
       "      <td>0.007844</td>\n",
       "    </tr>\n",
       "    <tr>\n",
       "      <th>20399</th>\n",
       "      <td>ENSG00000285444</td>\n",
       "      <td>ENSG00000285444</td>\n",
       "      <td>1.1</td>\n",
       "      <td>0.021506</td>\n",
       "    </tr>\n",
       "    <tr>\n",
       "      <th>20408</th>\n",
       "      <td>ENSG00000285534</td>\n",
       "      <td>ENSG00000285534</td>\n",
       "      <td>0.9</td>\n",
       "      <td>0.048701</td>\n",
       "    </tr>\n",
       "    <tr>\n",
       "      <th>20464</th>\n",
       "      <td>ENSG00000285938</td>\n",
       "      <td>ENSG00000285938</td>\n",
       "      <td>1.1</td>\n",
       "      <td>0.007905</td>\n",
       "    </tr>\n",
       "    <tr>\n",
       "      <th>20471</th>\n",
       "      <td>ENSG00000285984</td>\n",
       "      <td>ENSG00000285984</td>\n",
       "      <td>1.2</td>\n",
       "      <td>0.014070</td>\n",
       "    </tr>\n",
       "  </tbody>\n",
       "</table>\n",
       "<p>1837 rows × 4 columns</p>\n",
       "</div>"
      ],
      "text/plain": [
       "               Gene ID        Gene Name  SJIA_vs_NORM_fc  SJIA_vs_NORM_p\n",
       "21     ENSG00000002726             AOC1              1.1        0.026779\n",
       "34     ENSG00000003402            CFLAR              0.8        0.009191\n",
       "58     ENSG00000004897            CDC27              0.3        0.038024\n",
       "59     ENSG00000004939           SLC4A1              1.1        0.018914\n",
       "64     ENSG00000005020            SKAP2              0.6        0.024003\n",
       "...                ...              ...              ...             ...\n",
       "20393  ENSG00000285399  ENSG00000285399              0.9        0.007844\n",
       "20399  ENSG00000285444  ENSG00000285444              1.1        0.021506\n",
       "20408  ENSG00000285534  ENSG00000285534              0.9        0.048701\n",
       "20464  ENSG00000285938  ENSG00000285938              1.1        0.007905\n",
       "20471  ENSG00000285984  ENSG00000285984              1.2        0.014070\n",
       "\n",
       "[1837 rows x 4 columns]"
      ]
     },
     "execution_count": 41,
     "metadata": {},
     "output_type": "execute_result"
    }
   ],
   "source": [
    "# select genes upregulated in SJIA vs normal\n",
    "fc_sjia = query_results[\"SJIA_vs_NORM_fc\"] > 0\n",
    "# significance threshold of 0.05\n",
    "q_sjia = query_results[\"SJIA_vs_NORM_p\"] < 0.05\n",
    "\n",
    "# collect genes upregulated in SJIA vs normal\n",
    "sjia_slice = query_results[fc_sjia & q_sjia]\n",
    "sjia_slice.iloc[:, [0,1,8,9]]"
   ]
  },
  {
   "cell_type": "markdown",
   "metadata": {},
   "source": [
    "1837 of the 58735 genes in the dataset are significantly upregulated in SJIA. This represents 3.13% of the genes in the dataset."
   ]
  },
  {
   "cell_type": "code",
   "execution_count": 35,
   "metadata": {},
   "outputs": [
    {
     "data": {
      "text/html": [
       "<div>\n",
       "<style scoped>\n",
       "    .dataframe tbody tr th:only-of-type {\n",
       "        vertical-align: middle;\n",
       "    }\n",
       "\n",
       "    .dataframe tbody tr th {\n",
       "        vertical-align: top;\n",
       "    }\n",
       "\n",
       "    .dataframe thead th {\n",
       "        text-align: right;\n",
       "    }\n",
       "</style>\n",
       "<table border=\"1\" class=\"dataframe\">\n",
       "  <thead>\n",
       "    <tr style=\"text-align: right;\">\n",
       "      <th></th>\n",
       "      <th>Gene ID</th>\n",
       "      <th>Gene Name</th>\n",
       "      <th>SJIA_vs_NORM_fc</th>\n",
       "      <th>SJIA_vs_NORM_p</th>\n",
       "    </tr>\n",
       "  </thead>\n",
       "  <tbody>\n",
       "    <tr>\n",
       "      <th>13006</th>\n",
       "      <td>ENSG00000197208</td>\n",
       "      <td>SLC22A4</td>\n",
       "      <td>0.8</td>\n",
       "      <td>0.022303</td>\n",
       "    </tr>\n",
       "  </tbody>\n",
       "</table>\n",
       "</div>"
      ],
      "text/plain": [
       "               Gene ID Gene Name  SJIA_vs_NORM_fc  SJIA_vs_NORM_p\n",
       "13006  ENSG00000197208   SLC22A4              0.8        0.022303"
      ]
     },
     "execution_count": 35,
     "metadata": {},
     "output_type": "execute_result"
    }
   ],
   "source": [
    "# determine which genes in both sjia_slice & ra_pathway\n",
    "sjia_cond = sjia_slice['Gene Name'].isin(ra_pathway)\n",
    "sjia_filter = sjia_slice[sjia_cond]\n",
    "sjia_filter.iloc[:, [0,1,8,9]]"
   ]
  },
  {
   "cell_type": "markdown",
   "metadata": {},
   "source": [
    "One gene, SLC22A4, is in both the RA pathway and is significantly upregulated in SJIA."
   ]
  },
  {
   "cell_type": "code",
   "execution_count": 36,
   "metadata": {},
   "outputs": [
    {
     "name": "stdout",
     "output_type": "stream",
     "text": [
      "k = 1\n",
      "N = 766\n",
      "n = 10\n",
      "M = 20473\n",
      "Enrichment ratio: 2.6727154046997392\n",
      "p-value: 0.3171061751210223\n"
     ]
    }
   ],
   "source": [
    "# number of genes in pjia_cond2\n",
    "k = np.sum(pjia_cond2)\n",
    "# number of genes in pjia_slice2\n",
    "N = len(pjia_slice2)\n",
    "# number of genes in both query_results & ra_pathway\n",
    "n = np.sum(query_results['Gene Name'].isin(ra_pathway))\n",
    "# number of genes in query_results\n",
    "M=len(query_results)\n",
    "\n",
    "print('k = ' + str(k))\n",
    "print('N = ' + str(N))\n",
    "print('n = ' + str(n))\n",
    "print('M = ' + str(M))\n",
    "print('Enrichment ratio: ' + str((k/N)/(n/M)))\n",
    "print('p-value: ' + str(scipy.stats.hypergeom.sf(k=k-1,\n",
    "                         N=N,\n",
    "                         n=n,\n",
    "                         M=M)))"
   ]
  },
  {
   "cell_type": "markdown",
   "metadata": {},
   "source": [
    "The p-value of .32 (> .05) shows that the RA pathway is not significantly enriched in those with SJIA. This is unexpected, as SJIA is an RA and we would expect these genes to be upregulated. It's possible that the genes in the RA pathway are actually downregulated in SJIA instead of upregulated. I will test that next."
   ]
  },
  {
   "cell_type": "code",
   "execution_count": 37,
   "metadata": {},
   "outputs": [
    {
     "data": {
      "text/html": [
       "<div>\n",
       "<style scoped>\n",
       "    .dataframe tbody tr th:only-of-type {\n",
       "        vertical-align: middle;\n",
       "    }\n",
       "\n",
       "    .dataframe tbody tr th {\n",
       "        vertical-align: top;\n",
       "    }\n",
       "\n",
       "    .dataframe thead th {\n",
       "        text-align: right;\n",
       "    }\n",
       "</style>\n",
       "<table border=\"1\" class=\"dataframe\">\n",
       "  <thead>\n",
       "    <tr style=\"text-align: right;\">\n",
       "      <th></th>\n",
       "      <th>Gene ID</th>\n",
       "      <th>Gene Name</th>\n",
       "      <th>PJIA_vs_NORM_fc</th>\n",
       "      <th>PJIA_vs_NORM_p</th>\n",
       "    </tr>\n",
       "  </thead>\n",
       "  <tbody>\n",
       "    <tr>\n",
       "      <th>5</th>\n",
       "      <td>ENSG00000000971</td>\n",
       "      <td>CFH</td>\n",
       "      <td>-0.3</td>\n",
       "      <td>0.326698</td>\n",
       "    </tr>\n",
       "    <tr>\n",
       "      <th>27</th>\n",
       "      <td>ENSG00000003056</td>\n",
       "      <td>M6PR</td>\n",
       "      <td>-0.2</td>\n",
       "      <td>0.039884</td>\n",
       "    </tr>\n",
       "    <tr>\n",
       "      <th>40</th>\n",
       "      <td>ENSG00000004139</td>\n",
       "      <td>SARM1</td>\n",
       "      <td>-0.2</td>\n",
       "      <td>0.126574</td>\n",
       "    </tr>\n",
       "    <tr>\n",
       "      <th>61</th>\n",
       "      <td>ENSG00000004975</td>\n",
       "      <td>DVL2</td>\n",
       "      <td>-0.3</td>\n",
       "      <td>0.064652</td>\n",
       "    </tr>\n",
       "    <tr>\n",
       "      <th>81</th>\n",
       "      <td>ENSG00000005379</td>\n",
       "      <td>TSPOAP1</td>\n",
       "      <td>-0.8</td>\n",
       "      <td>0.000676</td>\n",
       "    </tr>\n",
       "    <tr>\n",
       "      <th>...</th>\n",
       "      <td>...</td>\n",
       "      <td>...</td>\n",
       "      <td>...</td>\n",
       "      <td>...</td>\n",
       "    </tr>\n",
       "    <tr>\n",
       "      <th>19740</th>\n",
       "      <td>ENSG00000277089</td>\n",
       "      <td>CCL3-AS1</td>\n",
       "      <td>NaN</td>\n",
       "      <td>NaN</td>\n",
       "    </tr>\n",
       "    <tr>\n",
       "      <th>19928</th>\n",
       "      <td>ENSG00000279117</td>\n",
       "      <td>ENSG00000279117</td>\n",
       "      <td>-0.2</td>\n",
       "      <td>0.118841</td>\n",
       "    </tr>\n",
       "    <tr>\n",
       "      <th>20197</th>\n",
       "      <td>ENSG00000281103</td>\n",
       "      <td>TRG-AS1</td>\n",
       "      <td>-0.3</td>\n",
       "      <td>0.045119</td>\n",
       "    </tr>\n",
       "    <tr>\n",
       "      <th>20235</th>\n",
       "      <td>ENSG00000282173</td>\n",
       "      <td>TRBJ1-5</td>\n",
       "      <td>-0.3</td>\n",
       "      <td>0.257204</td>\n",
       "    </tr>\n",
       "    <tr>\n",
       "      <th>20433</th>\n",
       "      <td>ENSG00000285752</td>\n",
       "      <td>CDC42-AS1</td>\n",
       "      <td>-0.1</td>\n",
       "      <td>0.720557</td>\n",
       "    </tr>\n",
       "  </tbody>\n",
       "</table>\n",
       "<p>710 rows × 4 columns</p>\n",
       "</div>"
      ],
      "text/plain": [
       "               Gene ID        Gene Name  PJIA_vs_NORM_fc  PJIA_vs_NORM_p\n",
       "5      ENSG00000000971              CFH             -0.3        0.326698\n",
       "27     ENSG00000003056             M6PR             -0.2        0.039884\n",
       "40     ENSG00000004139            SARM1             -0.2        0.126574\n",
       "61     ENSG00000004975             DVL2             -0.3        0.064652\n",
       "81     ENSG00000005379          TSPOAP1             -0.8        0.000676\n",
       "...                ...              ...              ...             ...\n",
       "19740  ENSG00000277089         CCL3-AS1              NaN             NaN\n",
       "19928  ENSG00000279117  ENSG00000279117             -0.2        0.118841\n",
       "20197  ENSG00000281103          TRG-AS1             -0.3        0.045119\n",
       "20235  ENSG00000282173          TRBJ1-5             -0.3        0.257204\n",
       "20433  ENSG00000285752        CDC42-AS1             -0.1        0.720557\n",
       "\n",
       "[710 rows x 4 columns]"
      ]
     },
     "execution_count": 37,
     "metadata": {},
     "output_type": "execute_result"
    }
   ],
   "source": [
    "# select genes downregulated in SJIA vs normal\n",
    "fc_sjia2 = query_results[\"SJIA_vs_NORM_fc\"] < 0\n",
    "# significance threshold of 0.05\n",
    "q_sjia2 = query_results[\"SJIA_vs_NORM_p\"] < 0.05\n",
    "\n",
    "# collect genes downregulated in SJIA vs normal\n",
    "sjia_slice2 = query_results[fc_sjia2 & q_sjia2]\n",
    "sjia_slice2.iloc[:, [0,1,6,7]]"
   ]
  },
  {
   "cell_type": "code",
   "execution_count": 39,
   "metadata": {},
   "outputs": [
    {
     "data": {
      "text/html": [
       "<div>\n",
       "<style scoped>\n",
       "    .dataframe tbody tr th:only-of-type {\n",
       "        vertical-align: middle;\n",
       "    }\n",
       "\n",
       "    .dataframe tbody tr th {\n",
       "        vertical-align: top;\n",
       "    }\n",
       "\n",
       "    .dataframe thead th {\n",
       "        text-align: right;\n",
       "    }\n",
       "</style>\n",
       "<table border=\"1\" class=\"dataframe\">\n",
       "  <thead>\n",
       "    <tr style=\"text-align: right;\">\n",
       "      <th></th>\n",
       "      <th>Gene ID</th>\n",
       "      <th>Gene Name</th>\n",
       "      <th>SJIA_vs_NORM_fc</th>\n",
       "      <th>SJIA_vs_NORM_p</th>\n",
       "    </tr>\n",
       "  </thead>\n",
       "  <tbody>\n",
       "    <tr>\n",
       "      <th>4414</th>\n",
       "      <td>ENSG00000122223</td>\n",
       "      <td>CD244</td>\n",
       "      <td>-0.6</td>\n",
       "      <td>0.000225</td>\n",
       "    </tr>\n",
       "  </tbody>\n",
       "</table>\n",
       "</div>"
      ],
      "text/plain": [
       "              Gene ID Gene Name  SJIA_vs_NORM_fc  SJIA_vs_NORM_p\n",
       "4414  ENSG00000122223     CD244             -0.6        0.000225"
      ]
     },
     "execution_count": 39,
     "metadata": {},
     "output_type": "execute_result"
    }
   ],
   "source": [
    "# determine which genes in both pjia_slice & jia_pathway\n",
    "sjia_cond2 = sjia_slice2['Gene Name'].isin(ra_pathway)\n",
    "sjia_filter2 = sjia_slice2[sjia_cond2]\n",
    "sjia_filter2.iloc[:, [0,1,8,9]]"
   ]
  },
  {
   "cell_type": "markdown",
   "metadata": {},
   "source": [
    "One gene, CD244, is in both the RA pathway and is significantly downregulated in SJIA. Notably, this is the only gene from the RA pathway that was significantly downregulated in OJIA and PJIA."
   ]
  },
  {
   "cell_type": "code",
   "execution_count": 40,
   "metadata": {},
   "outputs": [
    {
     "name": "stdout",
     "output_type": "stream",
     "text": [
      "k = 1\n",
      "N = 710\n",
      "n = 10\n",
      "M = 20473\n",
      "Enrichment ratio: 2.883521126760564\n",
      "p-value: 0.297446280976001\n"
     ]
    }
   ],
   "source": [
    "# number of genes in sjia_cond2\n",
    "k = np.sum(sjia_cond2)\n",
    "# number of genes in sjia_slice2\n",
    "N = len(sjia_slice2)\n",
    "# number of genes in both query_results & ra_pathway\n",
    "n = np.sum(query_results['Gene Name'].isin(ra_pathway))\n",
    "# number of genes in query_results\n",
    "M=len(query_results)\n",
    "\n",
    "print('k = ' + str(k))\n",
    "print('N = ' + str(N))\n",
    "print('n = ' + str(n))\n",
    "print('M = ' + str(M))\n",
    "print('Enrichment ratio: ' + str((k/N)/(n/M)))\n",
    "print('p-value: ' + str(scipy.stats.hypergeom.sf(k=k-1,\n",
    "                         N=N,\n",
    "                         n=n,\n",
    "                         M=M)))"
   ]
  },
  {
   "cell_type": "markdown",
   "metadata": {},
   "source": [
    "The p-value of .30 (> .05) shows that the RA pathway isn't significantly diminished in those with SJIA. This is unexpected, as SJIA is an RA so we would expect these genes to be either upregulated or downregulated and neither is true. These results correspond to the volcano plot, which shows several genes, but only two of which are significantly upregulated or downregulated. These results also correspond to the results for OJIA and PJIA, which didn't have significant enrichment or diminishment of the RA pathway."
   ]
  },
  {
   "cell_type": "markdown",
   "metadata": {},
   "source": [
    "# **Summary**"
   ]
  },
  {
   "cell_type": "markdown",
   "metadata": {},
   "source": [
    "The IBD pathway was found to be significantly diminished in Crohn's disease, but neither significantly enriched nor significantly diminished in UC. The RA pathway was found to be neither significantly enriched nor significantly diminished in OJIA, PJIA, or SJIA. Aside from Crohn's disease, these results were unexpected, as  differential gene expression would be expected for the disease pathway of patients with that particular disease. Possible explanations for these results could be that neither pathway has many genes, so not every gene that would experience differential expression is necessarily accountee for. Additionally, some genes in the pathway are enriched and some are diminished, so different genes in the pathway may experience different changes in expression instead of all changing in the same direction."
   ]
  },
  {
   "cell_type": "markdown",
   "metadata": {
    "id": "tHioLEqerbEI"
   },
   "source": [
    "# **References**"
   ]
  },
  {
   "cell_type": "markdown",
   "metadata": {
    "id": "zp2cDy5FcAh9"
   },
   "source": [
    "Mo A, Marigorta UM, Arafat D, et al. Disease-specific regulation of gene expression in a comparative analysis of juvenile idiopathic arthritis and inflammatory bowel disease. Genome Medicine. 2018 Jun;10(1):48. DOI: 10.1186/s13073-018-0558-x. PMID: 29950172; PMCID: PMC6020373."
   ]
  }
 ],
 "metadata": {
  "colab": {
   "provenance": []
  },
  "kernelspec": {
   "display_name": "Python 3 (ipykernel)",
   "language": "python",
   "name": "python3"
  },
  "language_info": {
   "codemirror_mode": {
    "name": "ipython",
    "version": 3
   },
   "file_extension": ".py",
   "mimetype": "text/x-python",
   "name": "python",
   "nbconvert_exporter": "python",
   "pygments_lexer": "ipython3",
   "version": "3.11.5"
  }
 },
 "nbformat": 4,
 "nbformat_minor": 1
}
